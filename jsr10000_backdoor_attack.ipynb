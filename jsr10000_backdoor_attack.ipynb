{
  "nbformat": 4,
  "nbformat_minor": 0,
  "metadata": {
    "colab": {
      "provenance": []
    },
    "kernelspec": {
      "name": "python3",
      "display_name": "Python 3"
    },
    "language_info": {
      "name": "python"
    }
  },
  "cells": [
    {
      "cell_type": "markdown",
      "source": [
        "# ML for CyberSecurity\n",
        "\n",
        "Name: Jash Rathod\n",
        "\n",
        "Net ID: jsr10000"
      ],
      "metadata": {
        "id": "QLCXmcRbyxE3"
      }
    },
    {
      "cell_type": "markdown",
      "source": [
        "# Downloading Relevant Files\n",
        "\n",
        "We will start by downloading the [CSAW-HackML-2020 GitHub Repo](https://github.com/csaw-hackml/CSAW-HackML-2020) and the [data files](https://drive.google.com/drive/folders/1Rs68uH8Xqa4j6UxG53wzD0uyI8347dSq?usp=sharing)"
      ],
      "metadata": {
        "id": "5ct6gAO1zb8w"
      }
    },
    {
      "cell_type": "code",
      "execution_count": 1,
      "metadata": {
        "colab": {
          "base_uri": "https://localhost:8080/"
        },
        "id": "2Zc5iDmfc6Bf",
        "outputId": "b5aef6d1-6d01-4c1e-d5a6-0d0bd41f5f99"
      },
      "outputs": [
        {
          "output_type": "stream",
          "name": "stdout",
          "text": [
            "Cloning into 'CSAW-HackML-2020'...\n",
            "remote: Enumerating objects: 220, done.\u001b[K\n",
            "remote: Counting objects: 100% (42/42), done.\u001b[K\n",
            "remote: Compressing objects: 100% (25/25), done.\u001b[K\n",
            "remote: Total 220 (delta 37), reused 17 (delta 17), pack-reused 178\u001b[K\n",
            "Receiving objects: 100% (220/220), 83.78 MiB | 26.80 MiB/s, done.\n",
            "Resolving deltas: 100% (83/83), done.\n"
          ]
        }
      ],
      "source": [
        "!git clone https://github.com/csaw-hackml/CSAW-HackML-2020.git"
      ]
    },
    {
      "cell_type": "code",
      "source": [
        "# All data: https://drive.google.com/drive/folders/1Rs68uH8Xqa4j6UxG53wzD0uyI8347dSq?usp=sharing\n",
        "\n",
        "# bd_test.h5 - https://drive.google.com/file/d/1kxNACo0qFo8QdZgtGHvaA67p4h4RcNIy/view?usp=sharing\n",
        "# bd_valid.h5 - https://drive.google.com/file/d/1DRKofqVdn2ioh44M45eYZHl_XAW9r3v4/view?usp=sharing\n",
        "# test.h5 - https://drive.google.com/file/d/1HpahIi-RcvtaRoly_TbuoBzWUaAjVDgt/view?usp=sharing\n",
        "# valid.h5 - https://drive.google.com/file/d/1nbB5tyUVClSaFvvg3hrFW4wOUj3GtNTf/view?usp=sharing\n",
        "\n",
        "import gdown\n",
        "\n",
        "!mkdir -p /content/CSAW-HackML-2020/lab3/data/bd /content/CSAW-HackML-2020/lab3/data/cl\n",
        "\n",
        "gid_outpath_list = [(\"1kxNACo0qFo8QdZgtGHvaA67p4h4RcNIy\", \"/content/CSAW-HackML-2020/lab3/data/bd/bd_test.h5\"),\n",
        "                    (\"1DRKofqVdn2ioh44M45eYZHl_XAW9r3v4\", \"/content/CSAW-HackML-2020/lab3/data/bd/bd_valid.h5\"),\n",
        "                    (\"1HpahIi-RcvtaRoly_TbuoBzWUaAjVDgt\", \"/content/CSAW-HackML-2020/lab3/data/cl/test.h5\"),\n",
        "                    (\"1nbB5tyUVClSaFvvg3hrFW4wOUj3GtNTf\", \"/content/CSAW-HackML-2020/lab3/data/cl/valid.h5\")]\n",
        "\n",
        "for x in gid_outpath_list:\n",
        "    gdown.download(f\"https://drive.google.com/uc?id={x[0]}\", x[1])"
      ],
      "metadata": {
        "colab": {
          "base_uri": "https://localhost:8080/"
        },
        "id": "ut6nE8Txd8Et",
        "outputId": "79426112-22b0-4daf-a4ae-f7730c8aae90"
      },
      "execution_count": 2,
      "outputs": [
        {
          "output_type": "stream",
          "name": "stderr",
          "text": [
            "Downloading...\n",
            "From: https://drive.google.com/uc?id=1kxNACo0qFo8QdZgtGHvaA67p4h4RcNIy\n",
            "To: /content/CSAW-HackML-2020/lab3/data/bd/bd_test.h5\n",
            "100%|██████████| 398M/398M [00:02<00:00, 160MB/s]\n",
            "Downloading...\n",
            "From: https://drive.google.com/uc?id=1DRKofqVdn2ioh44M45eYZHl_XAW9r3v4\n",
            "To: /content/CSAW-HackML-2020/lab3/data/bd/bd_valid.h5\n",
            "100%|██████████| 716M/716M [00:06<00:00, 119MB/s]\n",
            "Downloading...\n",
            "From: https://drive.google.com/uc?id=1HpahIi-RcvtaRoly_TbuoBzWUaAjVDgt\n",
            "To: /content/CSAW-HackML-2020/lab3/data/cl/test.h5\n",
            "100%|██████████| 398M/398M [00:03<00:00, 124MB/s]\n",
            "Downloading...\n",
            "From: https://drive.google.com/uc?id=1nbB5tyUVClSaFvvg3hrFW4wOUj3GtNTf\n",
            "To: /content/CSAW-HackML-2020/lab3/data/cl/valid.h5\n",
            "100%|██████████| 716M/716M [00:04<00:00, 157MB/s]\n"
          ]
        }
      ]
    },
    {
      "cell_type": "code",
      "source": [
        "!du -sh /content/CSAW-HackML-2020/lab3/models/bd_net.h5\n",
        "!du -sh /content/CSAW-HackML-2020/lab3/models/bd_weights.h5"
      ],
      "metadata": {
        "colab": {
          "base_uri": "https://localhost:8080/"
        },
        "id": "xB0O-TxsXo4a",
        "outputId": "ad0b1d23-db05-4911-8870-efd574ac798e"
      },
      "execution_count": 3,
      "outputs": [
        {
          "output_type": "stream",
          "name": "stdout",
          "text": [
            "7.0M\t/content/CSAW-HackML-2020/lab3/models/bd_net.h5\n",
            "2.4M\t/content/CSAW-HackML-2020/lab3/models/bd_weights.h5\n"
          ]
        }
      ]
    },
    {
      "cell_type": "markdown",
      "source": [
        "# Implementation\n",
        "\n",
        "We will now perform the following steps:\n",
        "\n",
        "1. Import libraries\n",
        "2. Load the dataset\n",
        "3. Define the model class\n",
        "4. Define function for pruning defense\n"
      ],
      "metadata": {
        "id": "LeAtWgHoz6kO"
      }
    },
    {
      "cell_type": "code",
      "source": [
        "# Import necessary libraries\n",
        "import h5py\n",
        "import numpy as np\n",
        "import pandas as pd\n",
        "from tqdm import tqdm\n",
        "\n",
        "from tensorflow import keras\n",
        "from tensorflow.keras.models import Model\n",
        "import tensorflow.keras.backend as K"
      ],
      "metadata": {
        "id": "CaqWyH2Kp6nw"
      },
      "execution_count": 4,
      "outputs": []
    },
    {
      "cell_type": "code",
      "source": [
        "# File paths for the datasets and the model\n",
        "neural_network_model_path = \"/content/CSAW-HackML-2020/lab3/models/bd_net.h5\"\n",
        "neural_network_model_weights = \"/content/CSAW-HackML-2020/lab3/models/bd_weights.h5\"\n",
        "\n",
        "poisoned_dataset_path = \"/content/CSAW-HackML-2020/lab3/data/bd/bd_valid.h5\"\n",
        "poisoned_test_path = \"/content/CSAW-HackML-2020/lab3/data/bd/bd_test.h5\"\n",
        "\n",
        "clean_dataset_path = \"/content/CSAW-HackML-2020/lab3/data/cl/valid.h5\"\n",
        "test_dataset_path = \"/content/CSAW-HackML-2020/lab3/data/cl/test.h5\""
      ],
      "metadata": {
        "id": "JrVBiGdTeFQT"
      },
      "execution_count": 5,
      "outputs": []
    },
    {
      "cell_type": "code",
      "source": [
        "# Function to load data from a given file path\n",
        "def load_dataset(file_path):\n",
        "    # Open the file and read data\n",
        "    file_data = h5py.File(file_path, 'r')\n",
        "    images, labels = np.array(file_data['data']), np.array(file_data['label'])\n",
        "\n",
        "    # Adjust the dimensions of the images\n",
        "    images = images.transpose((0, 2, 3, 1))\n",
        "    return images, labels\n",
        "\n",
        "# Loading different datasets\n",
        "clean_images_valid, clean_labels_valid = load_dataset(clean_dataset_path)\n",
        "clean_images_test, clean_labels_test = load_dataset(test_dataset_path)\n",
        "poisoned_images_valid, poisoned_labels_valid = load_dataset(poisoned_dataset_path)"
      ],
      "metadata": {
        "id": "d0a6XIBzgqNT"
      },
      "execution_count": null,
      "outputs": []
    },
    {
      "cell_type": "code",
      "source": [
        "# Function to extract intermediate layer output from a model\n",
        "def extract_intermediate_layer(model, layer_index):\n",
        "    # Create a model to output the intermediate layer\n",
        "    return keras.models.Model(inputs=model.input, outputs=model.layers[layer_index].output)"
      ],
      "metadata": {
        "id": "GKHL5qfBYH0q"
      },
      "execution_count": null,
      "outputs": []
    },
    {
      "cell_type": "code",
      "source": [
        "# Class definition for the modified model\n",
        "# This model outputs a repaired model \"G\"\n",
        "# `call` takes argument `input_data` (which is \"Dvalid\"​, a validation dataset of clean, labelled images)\n",
        "class ModifiedModel(keras.Model):\n",
        "    def __init__(self, OriginalModel, PrunedModel):\n",
        "        super(ModifiedModel, self).__init__()\n",
        "        self.OriginalModel = OriginalModel\n",
        "        self.PrunedModel = PrunedModel\n",
        "\n",
        "    def call(self, input_data):\n",
        "        original_predictions = np.argmax(self.OriginalModel(input_data), axis=1)\n",
        "        pruned_predictions = np.argmax(self.PrunedModel(input_data), axis=1)\n",
        "        combined_result = np.array([original_predictions[i] if original_predictions[i] == pruned_predictions[i] else 1283 for i in range(original_predictions.shape[0])])\n",
        "        result_matrix = np.zeros((original_predictions.shape[0], 1284))\n",
        "        result_matrix[np.arange(combined_result.size), combined_result] = 1\n",
        "        return result_matrix"
      ],
      "metadata": {
        "id": "n4Ue3yxnYKFt"
      },
      "execution_count": null,
      "outputs": []
    },
    {
      "cell_type": "markdown",
      "source": [
        "We will start at layer `6` for pruning (`0`-indexed)"
      ],
      "metadata": {
        "id": "eT1J5Les0XFW"
      }
    },
    {
      "cell_type": "code",
      "source": [
        "# Function to apply pruning defense mechanism\n",
        "def apply_pruning_defense(threshold):\n",
        "    # Specify the layer index for pruning\n",
        "    target_layer_index = 6\n",
        "    OriginalModel = keras.models.load_model(neural_network_model_path) # Model \"B\"\n",
        "    PrunedModel = keras.models.load_model(neural_network_model_path)\n",
        "\n",
        "    # Calculate and display original accuracy\n",
        "    clean_labels_predicted = np.argmax(OriginalModel.predict(clean_images_valid), axis=1)\n",
        "    original_accuracy = np.mean(np.equal(clean_labels_predicted, clean_labels_valid)) * 100\n",
        "    print(\"Original accuracy on clean data: \", original_accuracy)\n",
        "\n",
        "    # Calculate and display Attack Success Rate (ASR) of the poisoned model\n",
        "    poisoned_labels_predicted = np.argmax(OriginalModel.predict(poisoned_images_valid), axis=1)\n",
        "    attack_success_rate = np.mean(np.equal(poisoned_labels_predicted, poisoned_labels_valid)) * 100\n",
        "    print(\"Attack Success Rate (ASR) of BadNet: \", attack_success_rate)\n",
        "\n",
        "    # Get activations from the intermediate layer\n",
        "    intermediate_layer_output = extract_intermediate_layer(OriginalModel, target_layer_index)\n",
        "    activations = intermediate_layer_output.predict(clean_images_valid)\n",
        "\n",
        "    # Compute average activations and start pruning\n",
        "    average_activations = activations.mean(axis=(0, 1, 2))\n",
        "    activation_indices_sorted = np.argsort(average_activations)\n",
        "\n",
        "    # Iteratively prune channels\n",
        "    for channel in tqdm(activation_indices_sorted):\n",
        "        # Access and zero-out the target channel in the last layer\n",
        "        target_layer = PrunedModel.layers[target_layer_index - 1]\n",
        "        K.set_value(target_layer.kernel[:, :, :, channel], np.zeros_like(target_layer.kernel[:, :, :, channel]))\n",
        "        K.set_value(target_layer.bias[channel], np.zeros_like(target_layer.bias[channel]))\n",
        "\n",
        "        # Recalculate accuracy after each pruning step\n",
        "        # clean_labels_predicted = np.argmax(PrunedModel.predict(clean_images_valid), axis=1)\n",
        "        # pruned_accuracy = np.mean(np.equal(clean_labels_predicted, clean_labels_valid)) * 100\n",
        "        pruned_accuracy = np.mean(np.equal(np.argmax(PrunedModel.predict(clean_images_valid), axis=1), clean_labels_valid)) * 100\n",
        "        print('\\nVal accuracy (after pruning channel', channel, '):', pruned_accuracy)\n",
        "\n",
        "        # Stop pruning if the accuracy drop exceeds the threshold\n",
        "        if abs(original_accuracy - pruned_accuracy) > threshold:\n",
        "            break\n",
        "\n",
        "    # Create an instance of the ModifiedModel class\n",
        "    refined_model = ModifiedModel(OriginalModel, PrunedModel)\n",
        "\n",
        "    # Evaluate the refined model on clean test data\n",
        "    # clean_test_predictions = refined_model(clean_images_test)\n",
        "    clean_test_accuracy = np.mean(np.equal(np.argmax(refined_model(clean_images_test), axis=1), clean_labels_test)) * 100\n",
        "    print(\"Clean test accuracy of Refined Model: \", clean_test_accuracy)\n",
        "\n",
        "    # Evaluate the refined model on poisoned validation data\n",
        "    # poisoned_validation_predictions = refined_model(poisoned_images_valid)\n",
        "    poisoned_validation_accuracy = np.mean(np.equal(np.argmax(refined_model(poisoned_images_valid), axis=1), poisoned_labels_valid)) * 100\n",
        "    print(\"ASR of Refined Model: \", poisoned_validation_accuracy) # Attack success rate\n",
        "\n",
        "    return PrunedModel"
      ],
      "metadata": {
        "id": "p-3bnC_rYMa-"
      },
      "execution_count": null,
      "outputs": []
    },
    {
      "cell_type": "markdown",
      "source": [
        "## IMPORTANT NOTE\n",
        "\n",
        "The next 3 code cells produce the repaired models for different threshold values (2%, 4%, 10%). As these demand large System RAM, not all 3 cells can be run in succession. Hence, run only 1 cell for which you need the results. Then restart the runtime, run all the `Implementation` cells and run the other cell (and then the third).\n",
        "\n",
        "Below, I have produced results for the 3 repaired models, where each run shares the validation, test accuracies and attack success rates."
      ],
      "metadata": {
        "id": "g5cl1kEW0lNa"
      }
    },
    {
      "cell_type": "code",
      "source": [
        "# Prune the model with a threshold of 2 and save the repaired model\n",
        "repaired_model_threshold_2 = apply_pruning_defense(2)\n",
        "repaired_model_threshold_2.save(\"model_repaired_threshold_2.h5\")\n",
        "del repaired_model_threshold_2"
      ],
      "metadata": {
        "colab": {
          "base_uri": "https://localhost:8080/"
        },
        "id": "7LNWQuaPpN7f",
        "outputId": "1746f40a-b1dc-46c8-e980-3d2a25ddef94"
      },
      "execution_count": null,
      "outputs": [
        {
          "output_type": "stream",
          "name": "stdout",
          "text": [
            "361/361 [==============================] - 3s 3ms/step\n",
            "Original accuracy on clean data:  98.64899974019225\n",
            "361/361 [==============================] - 1s 2ms/step\n",
            "Attack Success Rate (ASR) of BadNet:  100.0\n",
            "361/361 [==============================] - 1s 2ms/step\n"
          ]
        },
        {
          "output_type": "stream",
          "name": "stderr",
          "text": [
            "\r  0%|          | 0/60 [00:00<?, ?it/s]"
          ]
        },
        {
          "output_type": "stream",
          "name": "stdout",
          "text": [
            "361/361 [==============================] - 1s 2ms/step\n"
          ]
        },
        {
          "output_type": "stream",
          "name": "stderr",
          "text": [
            "\r  2%|▏         | 1/60 [00:02<02:27,  2.51s/it]"
          ]
        },
        {
          "output_type": "stream",
          "name": "stdout",
          "text": [
            "\n",
            "Val accuracy (after pruning channel 0 ): 98.64899974019225\n",
            "361/361 [==============================] - 1s 2ms/step\n"
          ]
        },
        {
          "output_type": "stream",
          "name": "stderr",
          "text": [
            "\r  3%|▎         | 2/60 [00:04<02:14,  2.31s/it]"
          ]
        },
        {
          "output_type": "stream",
          "name": "stdout",
          "text": [
            "\n",
            "Val accuracy (after pruning channel 26 ): 98.64899974019225\n",
            "361/361 [==============================] - 1s 2ms/step\n"
          ]
        },
        {
          "output_type": "stream",
          "name": "stderr",
          "text": [
            "\r  5%|▌         | 3/60 [00:06<02:05,  2.20s/it]"
          ]
        },
        {
          "output_type": "stream",
          "name": "stdout",
          "text": [
            "\n",
            "Val accuracy (after pruning channel 27 ): 98.64899974019225\n",
            "361/361 [==============================] - 1s 2ms/step\n"
          ]
        },
        {
          "output_type": "stream",
          "name": "stderr",
          "text": [
            "\r  7%|▋         | 4/60 [00:09<02:07,  2.27s/it]"
          ]
        },
        {
          "output_type": "stream",
          "name": "stdout",
          "text": [
            "\n",
            "Val accuracy (after pruning channel 30 ): 98.64899974019225\n",
            "361/361 [==============================] - 1s 3ms/step\n"
          ]
        },
        {
          "output_type": "stream",
          "name": "stderr",
          "text": [
            "\r  8%|▊         | 5/60 [00:11<02:13,  2.43s/it]"
          ]
        },
        {
          "output_type": "stream",
          "name": "stdout",
          "text": [
            "\n",
            "Val accuracy (after pruning channel 31 ): 98.64899974019225\n",
            "361/361 [==============================] - 1s 2ms/step\n"
          ]
        },
        {
          "output_type": "stream",
          "name": "stderr",
          "text": [
            "\r 10%|█         | 6/60 [00:14<02:10,  2.41s/it]"
          ]
        },
        {
          "output_type": "stream",
          "name": "stdout",
          "text": [
            "\n",
            "Val accuracy (after pruning channel 33 ): 98.64899974019225\n",
            "361/361 [==============================] - 1s 3ms/step\n"
          ]
        },
        {
          "output_type": "stream",
          "name": "stderr",
          "text": [
            "\r 12%|█▏        | 7/60 [00:16<02:05,  2.37s/it]"
          ]
        },
        {
          "output_type": "stream",
          "name": "stdout",
          "text": [
            "\n",
            "Val accuracy (after pruning channel 34 ): 98.64899974019225\n",
            "361/361 [==============================] - 1s 2ms/step\n",
            "\n",
            "Val accuracy (after pruning channel 36 "
          ]
        },
        {
          "output_type": "stream",
          "name": "stderr",
          "text": [
            "\r 13%|█▎        | 8/60 [00:18<01:59,  2.30s/it]"
          ]
        },
        {
          "output_type": "stream",
          "name": "stdout",
          "text": [
            "): 98.64899974019225\n",
            "361/361 [==============================] - 1s 2ms/step\n"
          ]
        },
        {
          "output_type": "stream",
          "name": "stderr",
          "text": [
            "\r 15%|█▌        | 9/60 [00:20<01:54,  2.25s/it]"
          ]
        },
        {
          "output_type": "stream",
          "name": "stdout",
          "text": [
            "\n",
            "Val accuracy (after pruning channel 37 ): 98.64899974019225\n",
            "361/361 [==============================] - 1s 3ms/step\n"
          ]
        },
        {
          "output_type": "stream",
          "name": "stderr",
          "text": [
            "\r 17%|█▋        | 10/60 [00:24<02:15,  2.72s/it]"
          ]
        },
        {
          "output_type": "stream",
          "name": "stdout",
          "text": [
            "\n",
            "Val accuracy (after pruning channel 38 ): 98.64899974019225\n",
            "361/361 [==============================] - 1s 2ms/step\n"
          ]
        },
        {
          "output_type": "stream",
          "name": "stderr",
          "text": [
            "\r 18%|█▊        | 11/60 [00:26<02:07,  2.61s/it]"
          ]
        },
        {
          "output_type": "stream",
          "name": "stdout",
          "text": [
            "\n",
            "Val accuracy (after pruning channel 25 ): 98.64899974019225\n",
            "361/361 [==============================] - 1s 2ms/step\n"
          ]
        },
        {
          "output_type": "stream",
          "name": "stderr",
          "text": [
            "\r 20%|██        | 12/60 [00:29<02:02,  2.54s/it]"
          ]
        },
        {
          "output_type": "stream",
          "name": "stdout",
          "text": [
            "\n",
            "Val accuracy (after pruning channel 39 ): 98.64899974019225\n",
            "361/361 [==============================] - 1s 2ms/step\n"
          ]
        },
        {
          "output_type": "stream",
          "name": "stderr",
          "text": [
            "\r 22%|██▏       | 13/60 [00:31<01:55,  2.47s/it]"
          ]
        },
        {
          "output_type": "stream",
          "name": "stdout",
          "text": [
            "\n",
            "Val accuracy (after pruning channel 41 ): 98.64899974019225\n",
            "361/361 [==============================] - 1s 3ms/step\n"
          ]
        },
        {
          "output_type": "stream",
          "name": "stderr",
          "text": [
            "\r 23%|██▎       | 14/60 [00:33<01:52,  2.44s/it]"
          ]
        },
        {
          "output_type": "stream",
          "name": "stdout",
          "text": [
            "\n",
            "Val accuracy (after pruning channel 44 ): 98.64899974019225\n",
            "361/361 [==============================] - 1s 2ms/step\n"
          ]
        },
        {
          "output_type": "stream",
          "name": "stderr",
          "text": [
            "\r 25%|██▌       | 15/60 [00:36<01:55,  2.56s/it]"
          ]
        },
        {
          "output_type": "stream",
          "name": "stdout",
          "text": [
            "\n",
            "Val accuracy (after pruning channel 45 ): 98.64899974019225\n",
            "361/361 [==============================] - 1s 2ms/step\n"
          ]
        },
        {
          "output_type": "stream",
          "name": "stderr",
          "text": [
            "\r 27%|██▋       | 16/60 [00:39<01:50,  2.51s/it]"
          ]
        },
        {
          "output_type": "stream",
          "name": "stdout",
          "text": [
            "\n",
            "Val accuracy (after pruning channel 47 ): 98.64899974019225\n",
            "361/361 [==============================] - 1s 2ms/step\n"
          ]
        },
        {
          "output_type": "stream",
          "name": "stderr",
          "text": [
            "\r 28%|██▊       | 17/60 [00:41<01:46,  2.47s/it]"
          ]
        },
        {
          "output_type": "stream",
          "name": "stdout",
          "text": [
            "\n",
            "Val accuracy (after pruning channel 48 ): 98.64899974019225\n",
            "361/361 [==============================] - 1s 2ms/step\n"
          ]
        },
        {
          "output_type": "stream",
          "name": "stderr",
          "text": [
            "\r 30%|███       | 18/60 [00:43<01:42,  2.44s/it]"
          ]
        },
        {
          "output_type": "stream",
          "name": "stdout",
          "text": [
            "\n",
            "Val accuracy (after pruning channel 49 ): 98.64899974019225\n",
            "361/361 [==============================] - 1s 3ms/step\n"
          ]
        },
        {
          "output_type": "stream",
          "name": "stderr",
          "text": [
            "\r 32%|███▏      | 19/60 [00:46<01:39,  2.44s/it]"
          ]
        },
        {
          "output_type": "stream",
          "name": "stdout",
          "text": [
            "\n",
            "Val accuracy (after pruning channel 50 ): 98.64899974019225\n",
            "361/361 [==============================] - 1s 2ms/step\n"
          ]
        },
        {
          "output_type": "stream",
          "name": "stderr",
          "text": [
            "\r 33%|███▎      | 20/60 [00:49<01:41,  2.54s/it]"
          ]
        },
        {
          "output_type": "stream",
          "name": "stdout",
          "text": [
            "\n",
            "Val accuracy (after pruning channel 53 ): 98.64899974019225\n",
            "361/361 [==============================] - 1s 2ms/step\n"
          ]
        },
        {
          "output_type": "stream",
          "name": "stderr",
          "text": [
            "\r 35%|███▌      | 21/60 [00:51<01:37,  2.49s/it]"
          ]
        },
        {
          "output_type": "stream",
          "name": "stdout",
          "text": [
            "\n",
            "Val accuracy (after pruning channel 55 ): 98.64899974019225\n",
            "361/361 [==============================] - 1s 2ms/step\n"
          ]
        },
        {
          "output_type": "stream",
          "name": "stderr",
          "text": [
            "\r 37%|███▋      | 22/60 [00:53<01:33,  2.45s/it]"
          ]
        },
        {
          "output_type": "stream",
          "name": "stdout",
          "text": [
            "\n",
            "Val accuracy (after pruning channel 40 ): 98.64899974019225\n",
            "361/361 [==============================] - 1s 2ms/step\n"
          ]
        },
        {
          "output_type": "stream",
          "name": "stderr",
          "text": [
            "\r 38%|███▊      | 23/60 [00:56<01:29,  2.43s/it]"
          ]
        },
        {
          "output_type": "stream",
          "name": "stdout",
          "text": [
            "\n",
            "Val accuracy (after pruning channel 24 ): 98.64899974019225\n",
            "361/361 [==============================] - 1s 3ms/step\n"
          ]
        },
        {
          "output_type": "stream",
          "name": "stderr",
          "text": [
            "\r 40%|████      | 24/60 [00:58<01:25,  2.39s/it]"
          ]
        },
        {
          "output_type": "stream",
          "name": "stdout",
          "text": [
            "\n",
            "Val accuracy (after pruning channel 59 ): 98.64899974019225\n",
            "361/361 [==============================] - 1s 3ms/step\n"
          ]
        },
        {
          "output_type": "stream",
          "name": "stderr",
          "text": [
            "\r 42%|████▏     | 25/60 [01:01<01:27,  2.51s/it]"
          ]
        },
        {
          "output_type": "stream",
          "name": "stdout",
          "text": [
            "\n",
            "Val accuracy (after pruning channel 9 ): 98.64899974019225\n",
            "361/361 [==============================] - 1s 2ms/step\n"
          ]
        },
        {
          "output_type": "stream",
          "name": "stderr",
          "text": [
            "\r 43%|████▎     | 26/60 [01:03<01:25,  2.50s/it]"
          ]
        },
        {
          "output_type": "stream",
          "name": "stdout",
          "text": [
            "\n",
            "Val accuracy (after pruning channel 2 ): 98.64899974019225\n",
            "361/361 [==============================] - 1s 2ms/step\n"
          ]
        },
        {
          "output_type": "stream",
          "name": "stderr",
          "text": [
            "\r 45%|████▌     | 27/60 [01:06<01:18,  2.39s/it]"
          ]
        },
        {
          "output_type": "stream",
          "name": "stdout",
          "text": [
            "\n",
            "Val accuracy (after pruning channel 12 ): 98.64899974019225\n",
            "361/361 [==============================] - 1s 2ms/step\n"
          ]
        },
        {
          "output_type": "stream",
          "name": "stderr",
          "text": [
            "\r 47%|████▋     | 28/60 [01:08<01:14,  2.31s/it]"
          ]
        },
        {
          "output_type": "stream",
          "name": "stdout",
          "text": [
            "\n",
            "Val accuracy (after pruning channel 13 ): 98.64899974019225\n",
            "361/361 [==============================] - 1s 2ms/step\n"
          ]
        },
        {
          "output_type": "stream",
          "name": "stderr",
          "text": [
            "\r 48%|████▊     | 29/60 [01:10<01:12,  2.33s/it]"
          ]
        },
        {
          "output_type": "stream",
          "name": "stdout",
          "text": [
            "\n",
            "Val accuracy (after pruning channel 17 ): 98.64899974019225\n",
            "361/361 [==============================] - 1s 3ms/step\n"
          ]
        },
        {
          "output_type": "stream",
          "name": "stderr",
          "text": [
            "\r 50%|█████     | 30/60 [01:13<01:13,  2.45s/it]"
          ]
        },
        {
          "output_type": "stream",
          "name": "stdout",
          "text": [
            "\n",
            "Val accuracy (after pruning channel 14 ): 98.64899974019225\n",
            "361/361 [==============================] - 1s 3ms/step\n"
          ]
        },
        {
          "output_type": "stream",
          "name": "stderr",
          "text": [
            "\r 52%|█████▏    | 31/60 [01:15<01:10,  2.43s/it]"
          ]
        },
        {
          "output_type": "stream",
          "name": "stdout",
          "text": [
            "\n",
            "Val accuracy (after pruning channel 15 ): 98.64899974019225\n",
            "361/361 [==============================] - 1s 2ms/step\n"
          ]
        },
        {
          "output_type": "stream",
          "name": "stderr",
          "text": [
            "\r 53%|█████▎    | 32/60 [01:17<01:07,  2.42s/it]"
          ]
        },
        {
          "output_type": "stream",
          "name": "stdout",
          "text": [
            "\n",
            "Val accuracy (after pruning channel 23 ): 98.64899974019225\n",
            "361/361 [==============================] - 1s 2ms/step\n"
          ]
        },
        {
          "output_type": "stream",
          "name": "stderr",
          "text": [
            "\r 55%|█████▌    | 33/60 [01:20<01:04,  2.41s/it]"
          ]
        },
        {
          "output_type": "stream",
          "name": "stdout",
          "text": [
            "\n",
            "Val accuracy (after pruning channel 6 ): 98.64899974019225\n",
            "361/361 [==============================] - 1s 2ms/step\n"
          ]
        },
        {
          "output_type": "stream",
          "name": "stderr",
          "text": [
            "\r 57%|█████▋    | 34/60 [01:22<01:00,  2.35s/it]"
          ]
        },
        {
          "output_type": "stream",
          "name": "stdout",
          "text": [
            "\n",
            "Val accuracy (after pruning channel 51 ): 98.64033948211657\n",
            "361/361 [==============================] - 1s 3ms/step\n"
          ]
        },
        {
          "output_type": "stream",
          "name": "stderr",
          "text": [
            "\r 58%|█████▊    | 35/60 [01:25<01:00,  2.43s/it]"
          ]
        },
        {
          "output_type": "stream",
          "name": "stdout",
          "text": [
            "\n",
            "Val accuracy (after pruning channel 32 ): 98.64033948211657\n",
            "361/361 [==============================] - 1s 2ms/step\n",
            "\n",
            "Val accuracy (after pruning channel 22 ): "
          ]
        },
        {
          "output_type": "stream",
          "name": "stderr",
          "text": [
            "\r 60%|██████    | 36/60 [01:27<00:56,  2.34s/it]"
          ]
        },
        {
          "output_type": "stream",
          "name": "stdout",
          "text": [
            "98.63167922404088\n",
            "361/361 [==============================] - 1s 2ms/step\n"
          ]
        },
        {
          "output_type": "stream",
          "name": "stderr",
          "text": [
            "\r 62%|██████▏   | 37/60 [01:29<00:53,  2.32s/it]"
          ]
        },
        {
          "output_type": "stream",
          "name": "stdout",
          "text": [
            "\n",
            "Val accuracy (after pruning channel 21 ): 98.65765999826795\n",
            "361/361 [==============================] - 1s 2ms/step\n"
          ]
        },
        {
          "output_type": "stream",
          "name": "stderr",
          "text": [
            "\r 63%|██████▎   | 38/60 [01:31<00:51,  2.34s/it]"
          ]
        },
        {
          "output_type": "stream",
          "name": "stdout",
          "text": [
            "\n",
            "Val accuracy (after pruning channel 20 ): 98.64899974019225\n",
            "361/361 [==============================] - 1s 2ms/step\n"
          ]
        },
        {
          "output_type": "stream",
          "name": "stderr",
          "text": [
            "\r 65%|██████▌   | 39/60 [01:34<00:49,  2.35s/it]"
          ]
        },
        {
          "output_type": "stream",
          "name": "stdout",
          "text": [
            "\n",
            "Val accuracy (after pruning channel 19 ): 98.6056984498138\n",
            "361/361 [==============================] - 1s 3ms/step\n"
          ]
        },
        {
          "output_type": "stream",
          "name": "stderr",
          "text": [
            "\r 67%|██████▋   | 40/60 [01:36<00:48,  2.43s/it]"
          ]
        },
        {
          "output_type": "stream",
          "name": "stdout",
          "text": [
            "\n",
            "Val accuracy (after pruning channel 43 ): 98.57105741751104\n",
            "361/361 [==============================] - 1s 2ms/step\n"
          ]
        },
        {
          "output_type": "stream",
          "name": "stderr",
          "text": [
            "\r 68%|██████▊   | 41/60 [01:39<00:45,  2.41s/it]"
          ]
        },
        {
          "output_type": "stream",
          "name": "stdout",
          "text": [
            "\n",
            "Val accuracy (after pruning channel 58 ): 98.53641638520828\n",
            "361/361 [==============================] - 1s 2ms/step\n"
          ]
        },
        {
          "output_type": "stream",
          "name": "stderr",
          "text": [
            "\r 70%|███████   | 42/60 [01:41<00:43,  2.40s/it]"
          ]
        },
        {
          "output_type": "stream",
          "name": "stdout",
          "text": [
            "\n",
            "Val accuracy (after pruning channel 3 ): 98.19000606218066\n",
            "361/361 [==============================] - 1s 3ms/step\n"
          ]
        },
        {
          "output_type": "stream",
          "name": "stderr",
          "text": [
            "\r 72%|███████▏  | 43/60 [01:43<00:40,  2.36s/it]"
          ]
        },
        {
          "output_type": "stream",
          "name": "stdout",
          "text": [
            "\n",
            "Val accuracy (after pruning channel 42 ): 97.65307006148784\n",
            "361/361 [==============================] - 1s 2ms/step\n"
          ]
        },
        {
          "output_type": "stream",
          "name": "stderr",
          "text": [
            "\r 73%|███████▎  | 44/60 [01:46<00:36,  2.30s/it]"
          ]
        },
        {
          "output_type": "stream",
          "name": "stdout",
          "text": [
            "\n",
            "Val accuracy (after pruning channel 1 ): 97.50584567420108\n",
            "361/361 [==============================] - 1s 3ms/step\n"
          ]
        },
        {
          "output_type": "stream",
          "name": "stderr",
          "text": [
            "\r 73%|███████▎  | 44/60 [01:48<00:39,  2.47s/it]"
          ]
        },
        {
          "output_type": "stream",
          "name": "stdout",
          "text": [
            "\n",
            "Val accuracy (after pruning channel 29 ): 95.75647354291158\n"
          ]
        },
        {
          "output_type": "stream",
          "name": "stderr",
          "text": [
            "\n"
          ]
        },
        {
          "output_type": "stream",
          "name": "stdout",
          "text": [
            "Clean test accuracy of Refined Model:  95.74434918160561\n",
            "ASR of Refined Model:  100.0\n"
          ]
        },
        {
          "output_type": "stream",
          "name": "stderr",
          "text": [
            "/usr/local/lib/python3.10/dist-packages/keras/src/engine/training.py:3079: UserWarning: You are saving your model as an HDF5 file via `model.save()`. This file format is considered legacy. We recommend using instead the native Keras format, e.g. `model.save('my_model.keras')`.\n",
            "  saving_api.save_model(\n"
          ]
        }
      ]
    },
    {
      "cell_type": "code",
      "source": [
        "# Prune the model with a threshold of 4 and save the repaired model\n",
        "repaired_model_threshold_4 = apply_pruning_defense(4)\n",
        "repaired_model_threshold_4.save(\"model_repaired_threshold_4.h5\")"
      ],
      "metadata": {
        "colab": {
          "base_uri": "https://localhost:8080/"
        },
        "id": "Zpf_YYIDqDjS",
        "outputId": "fa2be5fa-ac6d-4895-c3da-3bbb23014587"
      },
      "execution_count": null,
      "outputs": [
        {
          "output_type": "stream",
          "name": "stdout",
          "text": [
            "361/361 [==============================] - 4s 3ms/step\n",
            "Original accuracy on clean data:  98.64899974019225\n",
            "361/361 [==============================] - 1s 2ms/step\n",
            "Attack Success Rate (ASR) of BadNet:  100.0\n",
            "361/361 [==============================] - 1s 2ms/step\n"
          ]
        },
        {
          "output_type": "stream",
          "name": "stderr",
          "text": [
            "\r  0%|          | 0/60 [00:00<?, ?it/s]"
          ]
        },
        {
          "output_type": "stream",
          "name": "stdout",
          "text": [
            "361/361 [==============================] - 1s 2ms/step\n"
          ]
        },
        {
          "output_type": "stream",
          "name": "stderr",
          "text": [
            "\r  2%|▏         | 1/60 [00:02<02:24,  2.45s/it]"
          ]
        },
        {
          "output_type": "stream",
          "name": "stdout",
          "text": [
            "\n",
            "Val accuracy (after pruning channel 0 ): 98.64899974019225\n",
            "361/361 [==============================] - 1s 2ms/step\n"
          ]
        },
        {
          "output_type": "stream",
          "name": "stderr",
          "text": [
            "\r  3%|▎         | 2/60 [00:04<02:10,  2.25s/it]"
          ]
        },
        {
          "output_type": "stream",
          "name": "stdout",
          "text": [
            "\n",
            "Val accuracy (after pruning channel 26 ): 98.64899974019225\n",
            "361/361 [==============================] - 1s 3ms/step\n"
          ]
        },
        {
          "output_type": "stream",
          "name": "stderr",
          "text": [
            "\r  5%|▌         | 3/60 [00:07<02:17,  2.41s/it]"
          ]
        },
        {
          "output_type": "stream",
          "name": "stdout",
          "text": [
            "\n",
            "Val accuracy (after pruning channel 27 ): 98.64899974019225\n",
            "361/361 [==============================] - 1s 3ms/step\n"
          ]
        },
        {
          "output_type": "stream",
          "name": "stderr",
          "text": [
            "\r  7%|▋         | 4/60 [00:09<02:23,  2.56s/it]"
          ]
        },
        {
          "output_type": "stream",
          "name": "stdout",
          "text": [
            "\n",
            "Val accuracy (after pruning channel 30 ): 98.64899974019225\n",
            "361/361 [==============================] - 1s 2ms/step\n"
          ]
        },
        {
          "output_type": "stream",
          "name": "stderr",
          "text": [
            "\r  8%|▊         | 5/60 [00:12<02:11,  2.39s/it]"
          ]
        },
        {
          "output_type": "stream",
          "name": "stdout",
          "text": [
            "\n",
            "Val accuracy (after pruning channel 31 ): 98.64899974019225\n",
            "361/361 [==============================] - 1s 2ms/step\n"
          ]
        },
        {
          "output_type": "stream",
          "name": "stderr",
          "text": [
            "\r 10%|█         | 6/60 [00:14<02:08,  2.38s/it]"
          ]
        },
        {
          "output_type": "stream",
          "name": "stdout",
          "text": [
            "\n",
            "Val accuracy (after pruning channel 33 ): 98.64899974019225\n",
            "361/361 [==============================] - 1s 2ms/step\n"
          ]
        },
        {
          "output_type": "stream",
          "name": "stderr",
          "text": [
            "\r 12%|█▏        | 7/60 [00:16<02:01,  2.29s/it]"
          ]
        },
        {
          "output_type": "stream",
          "name": "stdout",
          "text": [
            "\n",
            "Val accuracy (after pruning channel 34 ): 98.64899974019225\n",
            "361/361 [==============================] - 1s 3ms/step\n"
          ]
        },
        {
          "output_type": "stream",
          "name": "stderr",
          "text": [
            "\r 13%|█▎        | 8/60 [00:20<02:22,  2.73s/it]"
          ]
        },
        {
          "output_type": "stream",
          "name": "stdout",
          "text": [
            "\n",
            "Val accuracy (after pruning channel 36 ): 98.64899974019225\n",
            "361/361 [==============================] - 2s 4ms/step\n"
          ]
        },
        {
          "output_type": "stream",
          "name": "stderr",
          "text": [
            "\r 15%|█▌        | 9/60 [00:24<02:39,  3.13s/it]"
          ]
        },
        {
          "output_type": "stream",
          "name": "stdout",
          "text": [
            "\n",
            "Val accuracy (after pruning channel 37 ): 98.64899974019225\n",
            "361/361 [==============================] - 1s 2ms/step\n"
          ]
        },
        {
          "output_type": "stream",
          "name": "stderr",
          "text": [
            "\r 17%|█▋        | 10/60 [00:26<02:25,  2.90s/it]"
          ]
        },
        {
          "output_type": "stream",
          "name": "stdout",
          "text": [
            "\n",
            "Val accuracy (after pruning channel 38 ): 98.64899974019225\n",
            "361/361 [==============================] - 1s 2ms/step\n"
          ]
        },
        {
          "output_type": "stream",
          "name": "stderr",
          "text": [
            "\r 18%|█▊        | 11/60 [00:28<02:10,  2.66s/it]"
          ]
        },
        {
          "output_type": "stream",
          "name": "stdout",
          "text": [
            "\n",
            "Val accuracy (after pruning channel 25 ): 98.64899974019225\n",
            "361/361 [==============================] - 1s 2ms/step\n"
          ]
        },
        {
          "output_type": "stream",
          "name": "stderr",
          "text": [
            "\r 20%|██        | 12/60 [00:30<01:59,  2.48s/it]"
          ]
        },
        {
          "output_type": "stream",
          "name": "stdout",
          "text": [
            "\n",
            "Val accuracy (after pruning channel 39 ): 98.64899974019225\n",
            "361/361 [==============================] - 1s 2ms/step\n"
          ]
        },
        {
          "output_type": "stream",
          "name": "stderr",
          "text": [
            "\r 22%|██▏       | 13/60 [00:33<01:55,  2.45s/it]"
          ]
        },
        {
          "output_type": "stream",
          "name": "stdout",
          "text": [
            "\n",
            "Val accuracy (after pruning channel 41 ): 98.64899974019225\n",
            "361/361 [==============================] - 1s 3ms/step\n"
          ]
        },
        {
          "output_type": "stream",
          "name": "stderr",
          "text": [
            "\r 23%|██▎       | 14/60 [00:36<02:11,  2.86s/it]"
          ]
        },
        {
          "output_type": "stream",
          "name": "stdout",
          "text": [
            "\n",
            "Val accuracy (after pruning channel 44 ): 98.64899974019225\n",
            "361/361 [==============================] - 1s 2ms/step\n"
          ]
        },
        {
          "output_type": "stream",
          "name": "stderr",
          "text": [
            "\r 25%|██▌       | 15/60 [00:39<02:06,  2.82s/it]"
          ]
        },
        {
          "output_type": "stream",
          "name": "stdout",
          "text": [
            "\n",
            "Val accuracy (after pruning channel 45 ): 98.64899974019225\n",
            "361/361 [==============================] - 1s 2ms/step\n"
          ]
        },
        {
          "output_type": "stream",
          "name": "stderr",
          "text": [
            "\r 27%|██▋       | 16/60 [00:41<01:54,  2.61s/it]"
          ]
        },
        {
          "output_type": "stream",
          "name": "stdout",
          "text": [
            "\n",
            "Val accuracy (after pruning channel 47 ): 98.64899974019225\n",
            "361/361 [==============================] - 1s 2ms/step\n"
          ]
        },
        {
          "output_type": "stream",
          "name": "stderr",
          "text": [
            "\r 28%|██▊       | 17/60 [00:43<01:45,  2.46s/it]"
          ]
        },
        {
          "output_type": "stream",
          "name": "stdout",
          "text": [
            "\n",
            "Val accuracy (after pruning channel 48 ): 98.64899974019225\n",
            "361/361 [==============================] - 1s 2ms/step\n"
          ]
        },
        {
          "output_type": "stream",
          "name": "stderr",
          "text": [
            "\r 30%|███       | 18/60 [00:46<01:38,  2.35s/it]"
          ]
        },
        {
          "output_type": "stream",
          "name": "stdout",
          "text": [
            "\n",
            "Val accuracy (after pruning channel 49 ): 98.64899974019225\n",
            "361/361 [==============================] - 1s 2ms/step\n"
          ]
        },
        {
          "output_type": "stream",
          "name": "stderr",
          "text": [
            "\r 32%|███▏      | 19/60 [00:48<01:33,  2.28s/it]"
          ]
        },
        {
          "output_type": "stream",
          "name": "stdout",
          "text": [
            "\n",
            "Val accuracy (after pruning channel 50 ): 98.64899974019225\n",
            "361/361 [==============================] - 1s 3ms/step\n"
          ]
        },
        {
          "output_type": "stream",
          "name": "stderr",
          "text": [
            "\r 33%|███▎      | 20/60 [00:51<01:39,  2.49s/it]"
          ]
        },
        {
          "output_type": "stream",
          "name": "stdout",
          "text": [
            "\n",
            "Val accuracy (after pruning channel 53 ): 98.64899974019225\n",
            "361/361 [==============================] - 1s 3ms/step\n"
          ]
        },
        {
          "output_type": "stream",
          "name": "stderr",
          "text": [
            "\r 35%|███▌      | 21/60 [00:53<01:38,  2.52s/it]"
          ]
        },
        {
          "output_type": "stream",
          "name": "stdout",
          "text": [
            "\n",
            "Val accuracy (after pruning channel 55 ): 98.64899974019225\n",
            "361/361 [==============================] - 1s 2ms/step\n"
          ]
        },
        {
          "output_type": "stream",
          "name": "stderr",
          "text": [
            "\r 37%|███▋      | 22/60 [00:55<01:31,  2.40s/it]"
          ]
        },
        {
          "output_type": "stream",
          "name": "stdout",
          "text": [
            "\n",
            "Val accuracy (after pruning channel 40 ): 98.64899974019225\n",
            "361/361 [==============================] - 1s 2ms/step\n"
          ]
        },
        {
          "output_type": "stream",
          "name": "stderr",
          "text": [
            "\r 38%|███▊      | 23/60 [00:58<01:28,  2.39s/it]"
          ]
        },
        {
          "output_type": "stream",
          "name": "stdout",
          "text": [
            "\n",
            "Val accuracy (after pruning channel 24 ): 98.64899974019225\n",
            "361/361 [==============================] - 1s 2ms/step\n"
          ]
        },
        {
          "output_type": "stream",
          "name": "stderr",
          "text": [
            "\r 40%|████      | 24/60 [01:00<01:25,  2.38s/it]"
          ]
        },
        {
          "output_type": "stream",
          "name": "stdout",
          "text": [
            "\n",
            "Val accuracy (after pruning channel 59 ): 98.64899974019225\n",
            "361/361 [==============================] - 1s 2ms/step\n"
          ]
        },
        {
          "output_type": "stream",
          "name": "stderr",
          "text": [
            "\r 42%|████▏     | 25/60 [01:02<01:23,  2.38s/it]"
          ]
        },
        {
          "output_type": "stream",
          "name": "stdout",
          "text": [
            "\n",
            "Val accuracy (after pruning channel 9 ): 98.64899974019225\n",
            "361/361 [==============================] - 1s 3ms/step\n"
          ]
        },
        {
          "output_type": "stream",
          "name": "stderr",
          "text": [
            "\r 43%|████▎     | 26/60 [01:06<01:38,  2.89s/it]"
          ]
        },
        {
          "output_type": "stream",
          "name": "stdout",
          "text": [
            "\n",
            "Val accuracy (after pruning channel 2 ): 98.64899974019225\n",
            "361/361 [==============================] - 1s 2ms/step\n"
          ]
        },
        {
          "output_type": "stream",
          "name": "stderr",
          "text": [
            "\r 45%|████▌     | 27/60 [01:09<01:31,  2.77s/it]"
          ]
        },
        {
          "output_type": "stream",
          "name": "stdout",
          "text": [
            "\n",
            "Val accuracy (after pruning channel 12 ): 98.64899974019225\n",
            "361/361 [==============================] - 1s 2ms/step\n"
          ]
        },
        {
          "output_type": "stream",
          "name": "stderr",
          "text": [
            "\r 47%|████▋     | 28/60 [01:11<01:22,  2.57s/it]"
          ]
        },
        {
          "output_type": "stream",
          "name": "stdout",
          "text": [
            "\n",
            "Val accuracy (after pruning channel 13 ): 98.64899974019225\n",
            "361/361 [==============================] - 1s 2ms/step\n"
          ]
        },
        {
          "output_type": "stream",
          "name": "stderr",
          "text": [
            "\r 48%|████▊     | 29/60 [01:13<01:15,  2.43s/it]"
          ]
        },
        {
          "output_type": "stream",
          "name": "stdout",
          "text": [
            "\n",
            "Val accuracy (after pruning channel 17 ): 98.64899974019225\n",
            "361/361 [==============================] - 1s 2ms/step\n"
          ]
        },
        {
          "output_type": "stream",
          "name": "stderr",
          "text": [
            "\r 50%|█████     | 30/60 [01:15<01:09,  2.33s/it]"
          ]
        },
        {
          "output_type": "stream",
          "name": "stdout",
          "text": [
            "\n",
            "Val accuracy (after pruning channel 14 ): 98.64899974019225\n",
            "361/361 [==============================] - 1s 3ms/step\n"
          ]
        },
        {
          "output_type": "stream",
          "name": "stderr",
          "text": [
            "\r 52%|█████▏    | 31/60 [01:18<01:07,  2.33s/it]"
          ]
        },
        {
          "output_type": "stream",
          "name": "stdout",
          "text": [
            "\n",
            "Val accuracy (after pruning channel 15 ): 98.64899974019225\n",
            "361/361 [==============================] - 1s 3ms/step\n"
          ]
        },
        {
          "output_type": "stream",
          "name": "stderr",
          "text": [
            "\r 53%|█████▎    | 32/60 [01:21<01:11,  2.54s/it]"
          ]
        },
        {
          "output_type": "stream",
          "name": "stdout",
          "text": [
            "\n",
            "Val accuracy (after pruning channel 23 ): 98.64899974019225\n",
            "361/361 [==============================] - 1s 2ms/step\n"
          ]
        },
        {
          "output_type": "stream",
          "name": "stderr",
          "text": [
            "\r 55%|█████▌    | 33/60 [01:23<01:08,  2.53s/it]"
          ]
        },
        {
          "output_type": "stream",
          "name": "stdout",
          "text": [
            "\n",
            "Val accuracy (after pruning channel 6 ): 98.64899974019225\n",
            "361/361 [==============================] - 1s 2ms/step\n"
          ]
        },
        {
          "output_type": "stream",
          "name": "stderr",
          "text": [
            "\r 57%|█████▋    | 34/60 [01:26<01:04,  2.48s/it]"
          ]
        },
        {
          "output_type": "stream",
          "name": "stdout",
          "text": [
            "\n",
            "Val accuracy (after pruning channel 51 ): 98.64033948211657\n",
            "361/361 [==============================] - 1s 2ms/step\n"
          ]
        },
        {
          "output_type": "stream",
          "name": "stderr",
          "text": [
            "\r 58%|█████▊    | 35/60 [01:28<01:01,  2.45s/it]"
          ]
        },
        {
          "output_type": "stream",
          "name": "stdout",
          "text": [
            "\n",
            "Val accuracy (after pruning channel 32 ): 98.64033948211657\n",
            "361/361 [==============================] - 1s 2ms/step\n"
          ]
        },
        {
          "output_type": "stream",
          "name": "stderr",
          "text": [
            "\r 60%|██████    | 36/60 [01:31<01:00,  2.52s/it]"
          ]
        },
        {
          "output_type": "stream",
          "name": "stdout",
          "text": [
            "\n",
            "Val accuracy (after pruning channel 22 ): 98.63167922404088\n",
            "361/361 [==============================] - 1s 3ms/step\n"
          ]
        },
        {
          "output_type": "stream",
          "name": "stderr",
          "text": [
            "\r 62%|██████▏   | 37/60 [01:33<00:56,  2.47s/it]"
          ]
        },
        {
          "output_type": "stream",
          "name": "stdout",
          "text": [
            "\n",
            "Val accuracy (after pruning channel 21 ): 98.65765999826795\n",
            "361/361 [==============================] - 1s 4ms/step\n"
          ]
        },
        {
          "output_type": "stream",
          "name": "stderr",
          "text": [
            "\r 63%|██████▎   | 38/60 [01:37<01:05,  2.98s/it]"
          ]
        },
        {
          "output_type": "stream",
          "name": "stdout",
          "text": [
            "\n",
            "Val accuracy (after pruning channel 20 ): 98.64899974019225\n",
            "361/361 [==============================] - 1s 2ms/step\n"
          ]
        },
        {
          "output_type": "stream",
          "name": "stderr",
          "text": [
            "\r 65%|██████▌   | 39/60 [01:39<00:57,  2.73s/it]"
          ]
        },
        {
          "output_type": "stream",
          "name": "stdout",
          "text": [
            "\n",
            "Val accuracy (after pruning channel 19 ): 98.6056984498138\n",
            "361/361 [==============================] - 1s 2ms/step\n"
          ]
        },
        {
          "output_type": "stream",
          "name": "stderr",
          "text": [
            "\r 67%|██████▋   | 40/60 [01:41<00:50,  2.54s/it]"
          ]
        },
        {
          "output_type": "stream",
          "name": "stdout",
          "text": [
            "\n",
            "Val accuracy (after pruning channel 43 ): 98.57105741751104\n",
            "361/361 [==============================] - 1s 2ms/step\n"
          ]
        },
        {
          "output_type": "stream",
          "name": "stderr",
          "text": [
            "\r 68%|██████▊   | 41/60 [01:43<00:45,  2.41s/it]"
          ]
        },
        {
          "output_type": "stream",
          "name": "stdout",
          "text": [
            "\n",
            "Val accuracy (after pruning channel 58 ): 98.53641638520828\n",
            "361/361 [==============================] - 1s 2ms/step\n"
          ]
        },
        {
          "output_type": "stream",
          "name": "stderr",
          "text": [
            "\r 70%|███████   | 42/60 [01:46<00:41,  2.33s/it]"
          ]
        },
        {
          "output_type": "stream",
          "name": "stdout",
          "text": [
            "\n",
            "Val accuracy (after pruning channel 3 ): 98.19000606218066\n",
            "361/361 [==============================] - 1s 3ms/step\n"
          ]
        },
        {
          "output_type": "stream",
          "name": "stderr",
          "text": [
            "\r 72%|███████▏  | 43/60 [01:49<00:46,  2.75s/it]"
          ]
        },
        {
          "output_type": "stream",
          "name": "stdout",
          "text": [
            "\n",
            "Val accuracy (after pruning channel 42 ): 97.65307006148784\n",
            "361/361 [==============================] - 1s 3ms/step\n"
          ]
        },
        {
          "output_type": "stream",
          "name": "stderr",
          "text": [
            "\r 73%|███████▎  | 44/60 [01:52<00:44,  2.75s/it]"
          ]
        },
        {
          "output_type": "stream",
          "name": "stdout",
          "text": [
            "\n",
            "Val accuracy (after pruning channel 1 ): 97.50584567420108\n",
            "361/361 [==============================] - 1s 2ms/step\n"
          ]
        },
        {
          "output_type": "stream",
          "name": "stderr",
          "text": [
            "\r 75%|███████▌  | 45/60 [01:54<00:38,  2.57s/it]"
          ]
        },
        {
          "output_type": "stream",
          "name": "stdout",
          "text": [
            "\n",
            "Val accuracy (after pruning channel 29 ): 95.75647354291158\n",
            "361/361 [==============================] - 1s 2ms/step\n"
          ]
        },
        {
          "output_type": "stream",
          "name": "stderr",
          "text": [
            "\r 77%|███████▋  | 46/60 [01:56<00:34,  2.43s/it]"
          ]
        },
        {
          "output_type": "stream",
          "name": "stdout",
          "text": [
            "\n",
            "Val accuracy (after pruning channel 16 ): 95.20221702606739\n",
            "361/361 [==============================] - 1s 2ms/step\n"
          ]
        },
        {
          "output_type": "stream",
          "name": "stderr",
          "text": [
            "\r 78%|███████▊  | 47/60 [01:59<00:31,  2.41s/it]"
          ]
        },
        {
          "output_type": "stream",
          "name": "stdout",
          "text": [
            "\n",
            "Val accuracy (after pruning channel 56 ): 94.7172425738287\n",
            "361/361 [==============================] - 1s 2ms/step\n"
          ]
        },
        {
          "output_type": "stream",
          "name": "stderr",
          "text": [
            "\r 78%|███████▊  | 47/60 [02:01<00:33,  2.58s/it]"
          ]
        },
        {
          "output_type": "stream",
          "name": "stdout",
          "text": [
            "\n",
            "Val accuracy (after pruning channel 46 ): 92.09318437689443\n"
          ]
        },
        {
          "output_type": "stream",
          "name": "stderr",
          "text": [
            "\n"
          ]
        },
        {
          "output_type": "stream",
          "name": "stdout",
          "text": [
            "Clean test accuracy of Refined Model:  92.1278254091972\n",
            "ASR of Refined Model:  99.9913397419243\n"
          ]
        },
        {
          "output_type": "stream",
          "name": "stderr",
          "text": [
            "/usr/local/lib/python3.10/dist-packages/keras/src/engine/training.py:3079: UserWarning: You are saving your model as an HDF5 file via `model.save()`. This file format is considered legacy. We recommend using instead the native Keras format, e.g. `model.save('my_model.keras')`.\n",
            "  saving_api.save_model(\n"
          ]
        }
      ]
    },
    {
      "cell_type": "code",
      "source": [
        "# Prune the model with a threshold of 10 and save the repaired model\n",
        "repaired_model_threshold_10 = apply_pruning_defense(10)\n",
        "repaired_model_threshold_10.save(\"model_repaired_threshold_10.h5\")"
      ],
      "metadata": {
        "colab": {
          "base_uri": "https://localhost:8080/"
        },
        "id": "OmiJsPRTqHnP",
        "outputId": "af7922fd-35d4-48de-c5c3-54f0c0047249"
      },
      "execution_count": null,
      "outputs": [
        {
          "output_type": "stream",
          "name": "stdout",
          "text": [
            "361/361 [==============================] - 9s 3ms/step\n",
            "Original accuracy on clean data:  98.64899974019225\n",
            "361/361 [==============================] - 1s 2ms/step\n",
            "Attack Success Rate (ASR) of BadNet:  100.0\n",
            "361/361 [==============================] - 1s 2ms/step\n"
          ]
        },
        {
          "output_type": "stream",
          "name": "stderr",
          "text": [
            "\r  0%|          | 0/60 [00:00<?, ?it/s]"
          ]
        },
        {
          "output_type": "stream",
          "name": "stdout",
          "text": [
            "361/361 [==============================] - 1s 3ms/step\n"
          ]
        },
        {
          "output_type": "stream",
          "name": "stderr",
          "text": [
            "\r  2%|▏         | 1/60 [00:02<02:54,  2.95s/it]"
          ]
        },
        {
          "output_type": "stream",
          "name": "stdout",
          "text": [
            "\n",
            "Val accuracy (after pruning channel 0 ): 98.64899974019225\n",
            "361/361 [==============================] - 1s 2ms/step\n"
          ]
        },
        {
          "output_type": "stream",
          "name": "stderr",
          "text": [
            "\r  3%|▎         | 2/60 [00:05<02:37,  2.72s/it]"
          ]
        },
        {
          "output_type": "stream",
          "name": "stdout",
          "text": [
            "\n",
            "Val accuracy (after pruning channel 26 ): 98.64899974019225\n",
            "361/361 [==============================] - 1s 2ms/step\n"
          ]
        },
        {
          "output_type": "stream",
          "name": "stderr",
          "text": [
            "\r  5%|▌         | 3/60 [00:07<02:26,  2.56s/it]"
          ]
        },
        {
          "output_type": "stream",
          "name": "stdout",
          "text": [
            "\n",
            "Val accuracy (after pruning channel 27 ): 98.64899974019225\n",
            "361/361 [==============================] - 1s 2ms/step\n"
          ]
        },
        {
          "output_type": "stream",
          "name": "stderr",
          "text": [
            "\r  7%|▋         | 4/60 [00:10<02:22,  2.54s/it]"
          ]
        },
        {
          "output_type": "stream",
          "name": "stdout",
          "text": [
            "\n",
            "Val accuracy (after pruning channel 30 ): 98.64899974019225\n",
            "361/361 [==============================] - 1s 2ms/step\n"
          ]
        },
        {
          "output_type": "stream",
          "name": "stderr",
          "text": [
            "\r  8%|▊         | 5/60 [00:12<02:17,  2.50s/it]"
          ]
        },
        {
          "output_type": "stream",
          "name": "stdout",
          "text": [
            "\n",
            "Val accuracy (after pruning channel 31 ): 98.64899974019225\n",
            "361/361 [==============================] - 1s 4ms/step\n"
          ]
        },
        {
          "output_type": "stream",
          "name": "stderr",
          "text": [
            "\r 10%|█         | 6/60 [00:15<02:23,  2.67s/it]"
          ]
        },
        {
          "output_type": "stream",
          "name": "stdout",
          "text": [
            "\n",
            "Val accuracy (after pruning channel 33 ): 98.64899974019225\n",
            "361/361 [==============================] - 1s 3ms/step\n"
          ]
        },
        {
          "output_type": "stream",
          "name": "stderr",
          "text": [
            "\r 12%|█▏        | 7/60 [00:20<03:03,  3.46s/it]"
          ]
        },
        {
          "output_type": "stream",
          "name": "stdout",
          "text": [
            "\n",
            "Val accuracy (after pruning channel 34 ): 98.64899974019225\n",
            "361/361 [==============================] - 1s 3ms/step\n"
          ]
        },
        {
          "output_type": "stream",
          "name": "stderr",
          "text": [
            "\r 13%|█▎        | 8/60 [00:23<02:43,  3.14s/it]"
          ]
        },
        {
          "output_type": "stream",
          "name": "stdout",
          "text": [
            "\n",
            "Val accuracy (after pruning channel 36 ): 98.64899974019225\n",
            "361/361 [==============================] - 1s 2ms/step\n"
          ]
        },
        {
          "output_type": "stream",
          "name": "stderr",
          "text": [
            "\r 15%|█▌        | 9/60 [00:25<02:28,  2.92s/it]"
          ]
        },
        {
          "output_type": "stream",
          "name": "stdout",
          "text": [
            "\n",
            "Val accuracy (after pruning channel 37 ): 98.64899974019225\n",
            "361/361 [==============================] - 1s 2ms/step\n"
          ]
        },
        {
          "output_type": "stream",
          "name": "stderr",
          "text": [
            "\r 17%|█▋        | 10/60 [00:27<02:14,  2.68s/it]"
          ]
        },
        {
          "output_type": "stream",
          "name": "stdout",
          "text": [
            "\n",
            "Val accuracy (after pruning channel 38 ): 98.64899974019225\n",
            "361/361 [==============================] - 1s 3ms/step\n"
          ]
        },
        {
          "output_type": "stream",
          "name": "stderr",
          "text": [
            "\r 18%|█▊        | 11/60 [00:30<02:09,  2.64s/it]"
          ]
        },
        {
          "output_type": "stream",
          "name": "stdout",
          "text": [
            "\n",
            "Val accuracy (after pruning channel 25 ): 98.64899974019225\n",
            "361/361 [==============================] - 1s 3ms/step\n"
          ]
        },
        {
          "output_type": "stream",
          "name": "stderr",
          "text": [
            "\r 20%|██        | 12/60 [00:33<02:10,  2.71s/it]"
          ]
        },
        {
          "output_type": "stream",
          "name": "stdout",
          "text": [
            "\n",
            "Val accuracy (after pruning channel 39 ): 98.64899974019225\n",
            "361/361 [==============================] - 1s 2ms/step\n"
          ]
        },
        {
          "output_type": "stream",
          "name": "stderr",
          "text": [
            "\r 22%|██▏       | 13/60 [00:35<02:03,  2.63s/it]"
          ]
        },
        {
          "output_type": "stream",
          "name": "stdout",
          "text": [
            "\n",
            "Val accuracy (after pruning channel 41 ): 98.64899974019225\n",
            "361/361 [==============================] - 1s 2ms/step\n"
          ]
        },
        {
          "output_type": "stream",
          "name": "stderr",
          "text": [
            "\r 23%|██▎       | 14/60 [00:38<01:59,  2.59s/it]"
          ]
        },
        {
          "output_type": "stream",
          "name": "stdout",
          "text": [
            "\n",
            "Val accuracy (after pruning channel 44 ): 98.64899974019225\n",
            "361/361 [==============================] - 1s 2ms/step\n"
          ]
        },
        {
          "output_type": "stream",
          "name": "stderr",
          "text": [
            "\r 25%|██▌       | 15/60 [00:40<01:51,  2.47s/it]"
          ]
        },
        {
          "output_type": "stream",
          "name": "stdout",
          "text": [
            "\n",
            "Val accuracy (after pruning channel 45 ): 98.64899974019225\n",
            "361/361 [==============================] - 1s 2ms/step\n"
          ]
        },
        {
          "output_type": "stream",
          "name": "stderr",
          "text": [
            "\r 27%|██▋       | 16/60 [00:42<01:47,  2.45s/it]"
          ]
        },
        {
          "output_type": "stream",
          "name": "stdout",
          "text": [
            "\n",
            "Val accuracy (after pruning channel 47 ): 98.64899974019225\n",
            "361/361 [==============================] - 1s 3ms/step\n"
          ]
        },
        {
          "output_type": "stream",
          "name": "stderr",
          "text": [
            "\r 28%|██▊       | 17/60 [00:45<01:46,  2.47s/it]"
          ]
        },
        {
          "output_type": "stream",
          "name": "stdout",
          "text": [
            "\n",
            "Val accuracy (after pruning channel 48 ): 98.64899974019225\n",
            "361/361 [==============================] - 1s 3ms/step\n"
          ]
        },
        {
          "output_type": "stream",
          "name": "stderr",
          "text": [
            "\r 30%|███       | 18/60 [00:49<02:03,  2.94s/it]"
          ]
        },
        {
          "output_type": "stream",
          "name": "stdout",
          "text": [
            "\n",
            "Val accuracy (after pruning channel 49 ): 98.64899974019225\n",
            "361/361 [==============================] - 1s 2ms/step\n"
          ]
        },
        {
          "output_type": "stream",
          "name": "stderr",
          "text": [
            "\r 32%|███▏      | 19/60 [00:52<01:58,  2.90s/it]"
          ]
        },
        {
          "output_type": "stream",
          "name": "stdout",
          "text": [
            "\n",
            "Val accuracy (after pruning channel 50 ): 98.64899974019225\n",
            "361/361 [==============================] - 1s 3ms/step\n"
          ]
        },
        {
          "output_type": "stream",
          "name": "stderr",
          "text": [
            "\r 33%|███▎      | 20/60 [00:54<01:48,  2.71s/it]"
          ]
        },
        {
          "output_type": "stream",
          "name": "stdout",
          "text": [
            "\n",
            "Val accuracy (after pruning channel 53 ): 98.64899974019225\n",
            "361/361 [==============================] - 1s 2ms/step\n"
          ]
        },
        {
          "output_type": "stream",
          "name": "stderr",
          "text": [
            "\r 35%|███▌      | 21/60 [00:56<01:39,  2.55s/it]"
          ]
        },
        {
          "output_type": "stream",
          "name": "stdout",
          "text": [
            "\n",
            "Val accuracy (after pruning channel 55 ): 98.64899974019225\n",
            "361/361 [==============================] - 1s 2ms/step\n"
          ]
        },
        {
          "output_type": "stream",
          "name": "stderr",
          "text": [
            "\r 37%|███▋      | 22/60 [00:59<01:35,  2.51s/it]"
          ]
        },
        {
          "output_type": "stream",
          "name": "stdout",
          "text": [
            "\n",
            "Val accuracy (after pruning channel 40 ): 98.64899974019225\n",
            "361/361 [==============================] - 1s 3ms/step\n"
          ]
        },
        {
          "output_type": "stream",
          "name": "stderr",
          "text": [
            "\r 38%|███▊      | 23/60 [01:01<01:36,  2.60s/it]"
          ]
        },
        {
          "output_type": "stream",
          "name": "stdout",
          "text": [
            "\n",
            "Val accuracy (after pruning channel 24 ): 98.64899974019225\n",
            "361/361 [==============================] - 1s 2ms/step\n"
          ]
        },
        {
          "output_type": "stream",
          "name": "stderr",
          "text": [
            "\r 40%|████      | 24/60 [01:04<01:32,  2.57s/it]"
          ]
        },
        {
          "output_type": "stream",
          "name": "stdout",
          "text": [
            "\n",
            "Val accuracy (after pruning channel 59 ): 98.64899974019225\n",
            "361/361 [==============================] - 1s 2ms/step\n"
          ]
        },
        {
          "output_type": "stream",
          "name": "stderr",
          "text": [
            "\r 42%|████▏     | 25/60 [01:06<01:27,  2.51s/it]"
          ]
        },
        {
          "output_type": "stream",
          "name": "stdout",
          "text": [
            "\n",
            "Val accuracy (after pruning channel 9 ): 98.64899974019225\n",
            "361/361 [==============================] - 1s 3ms/step\n"
          ]
        },
        {
          "output_type": "stream",
          "name": "stderr",
          "text": [
            "\r 43%|████▎     | 26/60 [01:09<01:24,  2.48s/it]"
          ]
        },
        {
          "output_type": "stream",
          "name": "stdout",
          "text": [
            "\n",
            "Val accuracy (after pruning channel 2 ): 98.64899974019225\n",
            "361/361 [==============================] - 1s 2ms/step\n"
          ]
        },
        {
          "output_type": "stream",
          "name": "stderr",
          "text": [
            "\r 45%|████▌     | 27/60 [01:11<01:18,  2.39s/it]"
          ]
        },
        {
          "output_type": "stream",
          "name": "stdout",
          "text": [
            "\n",
            "Val accuracy (after pruning channel 12 ): 98.64899974019225\n",
            "361/361 [==============================] - 1s 2ms/step\n"
          ]
        },
        {
          "output_type": "stream",
          "name": "stderr",
          "text": [
            "\r 47%|████▋     | 28/60 [01:13<01:14,  2.33s/it]"
          ]
        },
        {
          "output_type": "stream",
          "name": "stdout",
          "text": [
            "\n",
            "Val accuracy (after pruning channel 13 ): 98.64899974019225\n",
            "361/361 [==============================] - 1s 3ms/step\n"
          ]
        },
        {
          "output_type": "stream",
          "name": "stderr",
          "text": [
            "\r 48%|████▊     | 29/60 [01:16<01:16,  2.48s/it]"
          ]
        },
        {
          "output_type": "stream",
          "name": "stdout",
          "text": [
            "\n",
            "Val accuracy (after pruning channel 17 ): 98.64899974019225\n",
            "361/361 [==============================] - 1s 2ms/step\n"
          ]
        },
        {
          "output_type": "stream",
          "name": "stderr",
          "text": [
            "\r 50%|█████     | 30/60 [01:18<01:15,  2.51s/it]"
          ]
        },
        {
          "output_type": "stream",
          "name": "stdout",
          "text": [
            "\n",
            "Val accuracy (after pruning channel 14 ): 98.64899974019225\n",
            "361/361 [==============================] - 1s 2ms/step\n"
          ]
        },
        {
          "output_type": "stream",
          "name": "stderr",
          "text": [
            "\r 52%|█████▏    | 31/60 [01:21<01:09,  2.38s/it]"
          ]
        },
        {
          "output_type": "stream",
          "name": "stdout",
          "text": [
            "\n",
            "Val accuracy (after pruning channel 15 ): 98.64899974019225\n",
            "361/361 [==============================] - 1s 2ms/step\n"
          ]
        },
        {
          "output_type": "stream",
          "name": "stderr",
          "text": [
            "\r 53%|█████▎    | 32/60 [01:23<01:07,  2.41s/it]"
          ]
        },
        {
          "output_type": "stream",
          "name": "stdout",
          "text": [
            "\n",
            "Val accuracy (after pruning channel 23 ): 98.64899974019225\n",
            "361/361 [==============================] - 1s 2ms/step\n"
          ]
        },
        {
          "output_type": "stream",
          "name": "stderr",
          "text": [
            "\r 55%|█████▌    | 33/60 [01:25<01:03,  2.35s/it]"
          ]
        },
        {
          "output_type": "stream",
          "name": "stdout",
          "text": [
            "\n",
            "Val accuracy (after pruning channel 6 ): 98.64899974019225\n",
            "361/361 [==============================] - 1s 2ms/step\n"
          ]
        },
        {
          "output_type": "stream",
          "name": "stderr",
          "text": [
            "\r 57%|█████▋    | 34/60 [01:28<01:01,  2.36s/it]"
          ]
        },
        {
          "output_type": "stream",
          "name": "stdout",
          "text": [
            "\n",
            "Val accuracy (after pruning channel 51 ): 98.64033948211657\n",
            "361/361 [==============================] - 1s 3ms/step\n"
          ]
        },
        {
          "output_type": "stream",
          "name": "stderr",
          "text": [
            "\r 58%|█████▊    | 35/60 [01:30<01:02,  2.49s/it]"
          ]
        },
        {
          "output_type": "stream",
          "name": "stdout",
          "text": [
            "\n",
            "Val accuracy (after pruning channel 32 ): 98.64033948211657\n",
            "361/361 [==============================] - 1s 3ms/step\n"
          ]
        },
        {
          "output_type": "stream",
          "name": "stderr",
          "text": [
            "\r 60%|██████    | 36/60 [01:33<01:01,  2.55s/it]"
          ]
        },
        {
          "output_type": "stream",
          "name": "stdout",
          "text": [
            "\n",
            "Val accuracy (after pruning channel 22 ): 98.63167922404088\n",
            "361/361 [==============================] - 1s 2ms/step\n"
          ]
        },
        {
          "output_type": "stream",
          "name": "stderr",
          "text": [
            "\r 62%|██████▏   | 37/60 [01:36<00:57,  2.50s/it]"
          ]
        },
        {
          "output_type": "stream",
          "name": "stdout",
          "text": [
            "\n",
            "Val accuracy (after pruning channel 21 ): 98.65765999826795\n",
            "361/361 [==============================] - 1s 3ms/step\n"
          ]
        },
        {
          "output_type": "stream",
          "name": "stderr",
          "text": [
            "\r 63%|██████▎   | 38/60 [01:38<00:54,  2.48s/it]"
          ]
        },
        {
          "output_type": "stream",
          "name": "stdout",
          "text": [
            "\n",
            "Val accuracy (after pruning channel 20 ): 98.64899974019225\n",
            "361/361 [==============================] - 1s 2ms/step\n"
          ]
        },
        {
          "output_type": "stream",
          "name": "stderr",
          "text": [
            "\r 65%|██████▌   | 39/60 [01:40<00:51,  2.46s/it]"
          ]
        },
        {
          "output_type": "stream",
          "name": "stdout",
          "text": [
            "\n",
            "Val accuracy (after pruning channel 19 ): 98.6056984498138\n",
            "361/361 [==============================] - 1s 2ms/step\n"
          ]
        },
        {
          "output_type": "stream",
          "name": "stderr",
          "text": [
            "\r 67%|██████▋   | 40/60 [01:42<00:47,  2.36s/it]"
          ]
        },
        {
          "output_type": "stream",
          "name": "stdout",
          "text": [
            "\n",
            "Val accuracy (after pruning channel 43 ): 98.57105741751104\n",
            "361/361 [==============================] - 1s 3ms/step\n"
          ]
        },
        {
          "output_type": "stream",
          "name": "stderr",
          "text": [
            "\r 68%|██████▊   | 41/60 [01:45<00:47,  2.50s/it]"
          ]
        },
        {
          "output_type": "stream",
          "name": "stdout",
          "text": [
            "\n",
            "Val accuracy (after pruning channel 58 ): 98.53641638520828\n",
            "361/361 [==============================] - 1s 3ms/step\n"
          ]
        },
        {
          "output_type": "stream",
          "name": "stderr",
          "text": [
            "\r 70%|███████   | 42/60 [01:48<00:46,  2.57s/it]"
          ]
        },
        {
          "output_type": "stream",
          "name": "stdout",
          "text": [
            "\n",
            "Val accuracy (after pruning channel 3 ): 98.19000606218066\n",
            "361/361 [==============================] - 1s 2ms/step\n"
          ]
        },
        {
          "output_type": "stream",
          "name": "stderr",
          "text": [
            "\r 72%|███████▏  | 43/60 [01:50<00:42,  2.51s/it]"
          ]
        },
        {
          "output_type": "stream",
          "name": "stdout",
          "text": [
            "\n",
            "Val accuracy (after pruning channel 42 ): 97.65307006148784\n",
            "361/361 [==============================] - 1s 3ms/step\n"
          ]
        },
        {
          "output_type": "stream",
          "name": "stderr",
          "text": [
            "\r 73%|███████▎  | 44/60 [01:53<00:39,  2.49s/it]"
          ]
        },
        {
          "output_type": "stream",
          "name": "stdout",
          "text": [
            "\n",
            "Val accuracy (after pruning channel 1 ): 97.50584567420108\n",
            "361/361 [==============================] - 1s 2ms/step\n"
          ]
        },
        {
          "output_type": "stream",
          "name": "stderr",
          "text": [
            "\r 75%|███████▌  | 45/60 [01:55<00:36,  2.43s/it]"
          ]
        },
        {
          "output_type": "stream",
          "name": "stdout",
          "text": [
            "\n",
            "Val accuracy (after pruning channel 29 ): 95.75647354291158\n",
            "361/361 [==============================] - 1s 2ms/step\n"
          ]
        },
        {
          "output_type": "stream",
          "name": "stderr",
          "text": [
            "\r 77%|███████▋  | 46/60 [01:58<00:33,  2.41s/it]"
          ]
        },
        {
          "output_type": "stream",
          "name": "stdout",
          "text": [
            "\n",
            "Val accuracy (after pruning channel 16 ): 95.20221702606739\n",
            "361/361 [==============================] - 1s 3ms/step\n"
          ]
        },
        {
          "output_type": "stream",
          "name": "stderr",
          "text": [
            "\r 78%|███████▊  | 47/60 [02:00<00:32,  2.54s/it]"
          ]
        },
        {
          "output_type": "stream",
          "name": "stdout",
          "text": [
            "\n",
            "Val accuracy (after pruning channel 56 ): 94.7172425738287\n",
            "361/361 [==============================] - 1s 2ms/step\n"
          ]
        },
        {
          "output_type": "stream",
          "name": "stderr",
          "text": [
            "\r 80%|████████  | 48/60 [02:03<00:31,  2.60s/it]"
          ]
        },
        {
          "output_type": "stream",
          "name": "stdout",
          "text": [
            "\n",
            "Val accuracy (after pruning channel 46 ): 92.09318437689443\n",
            "361/361 [==============================] - 1s 2ms/step\n"
          ]
        },
        {
          "output_type": "stream",
          "name": "stderr",
          "text": [
            "\r 82%|████████▏ | 49/60 [02:05<00:27,  2.53s/it]"
          ]
        },
        {
          "output_type": "stream",
          "name": "stdout",
          "text": [
            "\n",
            "Val accuracy (after pruning channel 5 ): 91.49562656967177\n",
            "361/361 [==============================] - 1s 3ms/step\n"
          ]
        },
        {
          "output_type": "stream",
          "name": "stderr",
          "text": [
            "\r 83%|████████▎ | 50/60 [02:08<00:24,  2.46s/it]"
          ]
        },
        {
          "output_type": "stream",
          "name": "stdout",
          "text": [
            "\n",
            "Val accuracy (after pruning channel 8 ): 91.01931237550879\n",
            "361/361 [==============================] - 1s 2ms/step\n"
          ]
        },
        {
          "output_type": "stream",
          "name": "stderr",
          "text": [
            "\r 85%|████████▌ | 51/60 [02:10<00:21,  2.37s/it]"
          ]
        },
        {
          "output_type": "stream",
          "name": "stdout",
          "text": [
            "\n",
            "Val accuracy (after pruning channel 11 ): 89.17467740538669\n",
            "361/361 [==============================] - 1s 2ms/step\n"
          ]
        },
        {
          "output_type": "stream",
          "name": "stderr",
          "text": [
            "\r 85%|████████▌ | 51/60 [02:12<00:23,  2.60s/it]"
          ]
        },
        {
          "output_type": "stream",
          "name": "stdout",
          "text": [
            "\n",
            "Val accuracy (after pruning channel 54 ): 84.43751623798389\n"
          ]
        },
        {
          "output_type": "stream",
          "name": "stderr",
          "text": [
            "\n"
          ]
        },
        {
          "output_type": "stream",
          "name": "stdout",
          "text": [
            "Clean test accuracy of Refined Model:  84.3335931410756\n",
            "ASR of Refined Model:  77.015675067117\n"
          ]
        },
        {
          "output_type": "stream",
          "name": "stderr",
          "text": [
            "/usr/local/lib/python3.10/dist-packages/keras/src/engine/training.py:3079: UserWarning: You are saving your model as an HDF5 file via `model.save()`. This file format is considered legacy. We recommend using instead the native Keras format, e.g. `model.save('my_model.keras')`.\n",
            "  saving_api.save_model(\n"
          ]
        }
      ]
    },
    {
      "cell_type": "markdown",
      "source": [
        "### Compiling all the results"
      ],
      "metadata": {
        "id": "w0jWfovu1YdZ"
      }
    },
    {
      "cell_type": "code",
      "source": [
        "results_df_1 = pd.DataFrame({\n",
        "                    \"Threshold\": [2, 4, 10],\n",
        "                    \"Clean test accuracy of Refined Model\": [95.74434918160561, 92.1278254091972, 84.3335931410756],\n",
        "                    \"Attack Success Rate\": [100.0, 99.9913397419243, 77.015675067117]\n",
        "                })\n",
        "\n",
        "results_df_1"
      ],
      "metadata": {
        "colab": {
          "base_uri": "https://localhost:8080/",
          "height": 143
        },
        "id": "9zPW6db2xon9",
        "outputId": "0210038c-a4a0-4e9e-b0b1-79b7bd12f61a"
      },
      "execution_count": null,
      "outputs": [
        {
          "output_type": "execute_result",
          "data": {
            "text/plain": [
              "   Threshold  Clean test accuracy of Refined Model  Attack Success Rate\n",
              "0          2                             95.744349           100.000000\n",
              "1          4                             92.127825            99.991340\n",
              "2         10                             84.333593            77.015675"
            ],
            "text/html": [
              "\n",
              "  <div id=\"df-3e354f4a-e4c1-4aed-9af4-bc2bea3086ae\" class=\"colab-df-container\">\n",
              "    <div>\n",
              "<style scoped>\n",
              "    .dataframe tbody tr th:only-of-type {\n",
              "        vertical-align: middle;\n",
              "    }\n",
              "\n",
              "    .dataframe tbody tr th {\n",
              "        vertical-align: top;\n",
              "    }\n",
              "\n",
              "    .dataframe thead th {\n",
              "        text-align: right;\n",
              "    }\n",
              "</style>\n",
              "<table border=\"1\" class=\"dataframe\">\n",
              "  <thead>\n",
              "    <tr style=\"text-align: right;\">\n",
              "      <th></th>\n",
              "      <th>Threshold</th>\n",
              "      <th>Clean test accuracy of Refined Model</th>\n",
              "      <th>Attack Success Rate</th>\n",
              "    </tr>\n",
              "  </thead>\n",
              "  <tbody>\n",
              "    <tr>\n",
              "      <th>0</th>\n",
              "      <td>2</td>\n",
              "      <td>95.744349</td>\n",
              "      <td>100.000000</td>\n",
              "    </tr>\n",
              "    <tr>\n",
              "      <th>1</th>\n",
              "      <td>4</td>\n",
              "      <td>92.127825</td>\n",
              "      <td>99.991340</td>\n",
              "    </tr>\n",
              "    <tr>\n",
              "      <th>2</th>\n",
              "      <td>10</td>\n",
              "      <td>84.333593</td>\n",
              "      <td>77.015675</td>\n",
              "    </tr>\n",
              "  </tbody>\n",
              "</table>\n",
              "</div>\n",
              "    <div class=\"colab-df-buttons\">\n",
              "\n",
              "  <div class=\"colab-df-container\">\n",
              "    <button class=\"colab-df-convert\" onclick=\"convertToInteractive('df-3e354f4a-e4c1-4aed-9af4-bc2bea3086ae')\"\n",
              "            title=\"Convert this dataframe to an interactive table.\"\n",
              "            style=\"display:none;\">\n",
              "\n",
              "  <svg xmlns=\"http://www.w3.org/2000/svg\" height=\"24px\" viewBox=\"0 -960 960 960\">\n",
              "    <path d=\"M120-120v-720h720v720H120Zm60-500h600v-160H180v160Zm220 220h160v-160H400v160Zm0 220h160v-160H400v160ZM180-400h160v-160H180v160Zm440 0h160v-160H620v160ZM180-180h160v-160H180v160Zm440 0h160v-160H620v160Z\"/>\n",
              "  </svg>\n",
              "    </button>\n",
              "\n",
              "  <style>\n",
              "    .colab-df-container {\n",
              "      display:flex;\n",
              "      gap: 12px;\n",
              "    }\n",
              "\n",
              "    .colab-df-convert {\n",
              "      background-color: #E8F0FE;\n",
              "      border: none;\n",
              "      border-radius: 50%;\n",
              "      cursor: pointer;\n",
              "      display: none;\n",
              "      fill: #1967D2;\n",
              "      height: 32px;\n",
              "      padding: 0 0 0 0;\n",
              "      width: 32px;\n",
              "    }\n",
              "\n",
              "    .colab-df-convert:hover {\n",
              "      background-color: #E2EBFA;\n",
              "      box-shadow: 0px 1px 2px rgba(60, 64, 67, 0.3), 0px 1px 3px 1px rgba(60, 64, 67, 0.15);\n",
              "      fill: #174EA6;\n",
              "    }\n",
              "\n",
              "    .colab-df-buttons div {\n",
              "      margin-bottom: 4px;\n",
              "    }\n",
              "\n",
              "    [theme=dark] .colab-df-convert {\n",
              "      background-color: #3B4455;\n",
              "      fill: #D2E3FC;\n",
              "    }\n",
              "\n",
              "    [theme=dark] .colab-df-convert:hover {\n",
              "      background-color: #434B5C;\n",
              "      box-shadow: 0px 1px 3px 1px rgba(0, 0, 0, 0.15);\n",
              "      filter: drop-shadow(0px 1px 2px rgba(0, 0, 0, 0.3));\n",
              "      fill: #FFFFFF;\n",
              "    }\n",
              "  </style>\n",
              "\n",
              "    <script>\n",
              "      const buttonEl =\n",
              "        document.querySelector('#df-3e354f4a-e4c1-4aed-9af4-bc2bea3086ae button.colab-df-convert');\n",
              "      buttonEl.style.display =\n",
              "        google.colab.kernel.accessAllowed ? 'block' : 'none';\n",
              "\n",
              "      async function convertToInteractive(key) {\n",
              "        const element = document.querySelector('#df-3e354f4a-e4c1-4aed-9af4-bc2bea3086ae');\n",
              "        const dataTable =\n",
              "          await google.colab.kernel.invokeFunction('convertToInteractive',\n",
              "                                                    [key], {});\n",
              "        if (!dataTable) return;\n",
              "\n",
              "        const docLinkHtml = 'Like what you see? Visit the ' +\n",
              "          '<a target=\"_blank\" href=https://colab.research.google.com/notebooks/data_table.ipynb>data table notebook</a>'\n",
              "          + ' to learn more about interactive tables.';\n",
              "        element.innerHTML = '';\n",
              "        dataTable['output_type'] = 'display_data';\n",
              "        await google.colab.output.renderOutput(dataTable, element);\n",
              "        const docLink = document.createElement('div');\n",
              "        docLink.innerHTML = docLinkHtml;\n",
              "        element.appendChild(docLink);\n",
              "      }\n",
              "    </script>\n",
              "  </div>\n",
              "\n",
              "\n",
              "<div id=\"df-07b26304-5d0b-47ef-8ee5-2995cc1563f7\">\n",
              "  <button class=\"colab-df-quickchart\" onclick=\"quickchart('df-07b26304-5d0b-47ef-8ee5-2995cc1563f7')\"\n",
              "            title=\"Suggest charts\"\n",
              "            style=\"display:none;\">\n",
              "\n",
              "<svg xmlns=\"http://www.w3.org/2000/svg\" height=\"24px\"viewBox=\"0 0 24 24\"\n",
              "     width=\"24px\">\n",
              "    <g>\n",
              "        <path d=\"M19 3H5c-1.1 0-2 .9-2 2v14c0 1.1.9 2 2 2h14c1.1 0 2-.9 2-2V5c0-1.1-.9-2-2-2zM9 17H7v-7h2v7zm4 0h-2V7h2v10zm4 0h-2v-4h2v4z\"/>\n",
              "    </g>\n",
              "</svg>\n",
              "  </button>\n",
              "\n",
              "<style>\n",
              "  .colab-df-quickchart {\n",
              "      --bg-color: #E8F0FE;\n",
              "      --fill-color: #1967D2;\n",
              "      --hover-bg-color: #E2EBFA;\n",
              "      --hover-fill-color: #174EA6;\n",
              "      --disabled-fill-color: #AAA;\n",
              "      --disabled-bg-color: #DDD;\n",
              "  }\n",
              "\n",
              "  [theme=dark] .colab-df-quickchart {\n",
              "      --bg-color: #3B4455;\n",
              "      --fill-color: #D2E3FC;\n",
              "      --hover-bg-color: #434B5C;\n",
              "      --hover-fill-color: #FFFFFF;\n",
              "      --disabled-bg-color: #3B4455;\n",
              "      --disabled-fill-color: #666;\n",
              "  }\n",
              "\n",
              "  .colab-df-quickchart {\n",
              "    background-color: var(--bg-color);\n",
              "    border: none;\n",
              "    border-radius: 50%;\n",
              "    cursor: pointer;\n",
              "    display: none;\n",
              "    fill: var(--fill-color);\n",
              "    height: 32px;\n",
              "    padding: 0;\n",
              "    width: 32px;\n",
              "  }\n",
              "\n",
              "  .colab-df-quickchart:hover {\n",
              "    background-color: var(--hover-bg-color);\n",
              "    box-shadow: 0 1px 2px rgba(60, 64, 67, 0.3), 0 1px 3px 1px rgba(60, 64, 67, 0.15);\n",
              "    fill: var(--button-hover-fill-color);\n",
              "  }\n",
              "\n",
              "  .colab-df-quickchart-complete:disabled,\n",
              "  .colab-df-quickchart-complete:disabled:hover {\n",
              "    background-color: var(--disabled-bg-color);\n",
              "    fill: var(--disabled-fill-color);\n",
              "    box-shadow: none;\n",
              "  }\n",
              "\n",
              "  .colab-df-spinner {\n",
              "    border: 2px solid var(--fill-color);\n",
              "    border-color: transparent;\n",
              "    border-bottom-color: var(--fill-color);\n",
              "    animation:\n",
              "      spin 1s steps(1) infinite;\n",
              "  }\n",
              "\n",
              "  @keyframes spin {\n",
              "    0% {\n",
              "      border-color: transparent;\n",
              "      border-bottom-color: var(--fill-color);\n",
              "      border-left-color: var(--fill-color);\n",
              "    }\n",
              "    20% {\n",
              "      border-color: transparent;\n",
              "      border-left-color: var(--fill-color);\n",
              "      border-top-color: var(--fill-color);\n",
              "    }\n",
              "    30% {\n",
              "      border-color: transparent;\n",
              "      border-left-color: var(--fill-color);\n",
              "      border-top-color: var(--fill-color);\n",
              "      border-right-color: var(--fill-color);\n",
              "    }\n",
              "    40% {\n",
              "      border-color: transparent;\n",
              "      border-right-color: var(--fill-color);\n",
              "      border-top-color: var(--fill-color);\n",
              "    }\n",
              "    60% {\n",
              "      border-color: transparent;\n",
              "      border-right-color: var(--fill-color);\n",
              "    }\n",
              "    80% {\n",
              "      border-color: transparent;\n",
              "      border-right-color: var(--fill-color);\n",
              "      border-bottom-color: var(--fill-color);\n",
              "    }\n",
              "    90% {\n",
              "      border-color: transparent;\n",
              "      border-bottom-color: var(--fill-color);\n",
              "    }\n",
              "  }\n",
              "</style>\n",
              "\n",
              "  <script>\n",
              "    async function quickchart(key) {\n",
              "      const quickchartButtonEl =\n",
              "        document.querySelector('#' + key + ' button');\n",
              "      quickchartButtonEl.disabled = true;  // To prevent multiple clicks.\n",
              "      quickchartButtonEl.classList.add('colab-df-spinner');\n",
              "      try {\n",
              "        const charts = await google.colab.kernel.invokeFunction(\n",
              "            'suggestCharts', [key], {});\n",
              "      } catch (error) {\n",
              "        console.error('Error during call to suggestCharts:', error);\n",
              "      }\n",
              "      quickchartButtonEl.classList.remove('colab-df-spinner');\n",
              "      quickchartButtonEl.classList.add('colab-df-quickchart-complete');\n",
              "    }\n",
              "    (() => {\n",
              "      let quickchartButtonEl =\n",
              "        document.querySelector('#df-07b26304-5d0b-47ef-8ee5-2995cc1563f7 button');\n",
              "      quickchartButtonEl.style.display =\n",
              "        google.colab.kernel.accessAllowed ? 'block' : 'none';\n",
              "    })();\n",
              "  </script>\n",
              "</div>\n",
              "    </div>\n",
              "  </div>\n"
            ]
          },
          "metadata": {},
          "execution_count": 10
        }
      ]
    },
    {
      "cell_type": "markdown",
      "source": [
        "### Clearly we observe and improvement in attack success rates, which indicates that as the threshold increases, the model develops better resistance to attacks."
      ],
      "metadata": {
        "id": "gMQxhNN21by9"
      }
    },
    {
      "cell_type": "markdown",
      "source": [
        "# Obtaining the accuracy on clean test data and the attack success rate (on backdoored test data) as a function of the fraction of channels pruned (X)"
      ],
      "metadata": {
        "id": "A53U5J0C12Of"
      }
    },
    {
      "cell_type": "code",
      "source": [
        "# Function to apply pruning defense and generate statistics\n",
        "def apply_pruning_and_generate_stats():\n",
        "    target_layer_index = 6\n",
        "    OriginalModel = keras.models.load_model(neural_network_model_path)\n",
        "    PrunedModel = keras.models.load_model(neural_network_model_path)\n",
        "\n",
        "    # Evaluate the original model on clean and poisoned data\n",
        "    original_accuracy = np.mean(np.equal(np.argmax(OriginalModel.predict(clean_images_test), axis=1), clean_labels_test)) * 100\n",
        "    print(\"Original accuracy on clean data: \", original_accuracy)\n",
        "    original_asr = np.mean(np.equal(np.argmax(OriginalModel.predict(poisoned_images_valid), axis=1), poisoned_labels_valid)) * 100\n",
        "    print(\"\\nAttack Success Rate (ASR) on poisoned data: \", original_asr)\n",
        "\n",
        "    # Get intermediate layer activations\n",
        "    intermediate_activations = extract_intermediate_layer(OriginalModel, target_layer_index).predict(clean_images_valid)\n",
        "    average_activations = intermediate_activations.mean(axis=(0,1,2))\n",
        "    sorted_activation_indices = np.argsort(average_activations)\n",
        "    total_len = len(sorted_activation_indices)\n",
        "\n",
        "    # Lists to store results for plotting\n",
        "    clean_data_accuracies = []\n",
        "    poisoned_data_asrs = []\n",
        "    pruning_progresses = []\n",
        "\n",
        "    # Apply pruning iteratively\n",
        "    pruning_progress = 0\n",
        "    for channel in sorted_activation_indices:\n",
        "        # Zeroing out the weights of the target channel\n",
        "        layer_to_prune = PrunedModel.layers[target_layer_index - 1]\n",
        "        K.set_value(layer_to_prune.kernel[:, :, :, channel], np.zeros_like(layer_to_prune.kernel[:, :, :, channel]))\n",
        "        K.set_value(layer_to_prune.bias[channel], np.zeros_like(layer_to_prune.bias[channel]))\n",
        "\n",
        "        # Create a refined model instance and evaluate\n",
        "        refined_model = ModifiedModel(OriginalModel, PrunedModel)\n",
        "        # pruning_progress = (pruning_progress + 1) / len(sorted_activation_indices)\n",
        "        print(f\"\\nPruning progress percentage: {(pruning_progress / total_len):.2f}\")\n",
        "\n",
        "        clean_data_accuracy = np.mean(np.equal(np.argmax(refined_model(clean_images_test), axis=1), clean_labels_test)) * 100\n",
        "        print(\"Clean data accuracy of Modified Model: \", clean_data_accuracy)\n",
        "\n",
        "        poisoned_data_asr = np.mean(np.equal(np.argmax(refined_model(poisoned_images_valid), axis=1), poisoned_labels_valid)) * 100\n",
        "        print(\"ASR of Refined Model on poisoned data: \", poisoned_data_asr)\n",
        "\n",
        "        # Store results for plotting\n",
        "        clean_data_accuracies.append(clean_data_accuracy)\n",
        "        poisoned_data_asrs.append(poisoned_data_asr)\n",
        "        pruning_progresses.append(pruning_progress / total_len)\n",
        "        pruning_progress = pruning_progress + 1\n",
        "\n",
        "    return pruning_progresses, clean_data_accuracies, poisoned_data_asrs\n"
      ],
      "metadata": {
        "id": "3Gzz_Ksl3ZBe"
      },
      "execution_count": null,
      "outputs": []
    },
    {
      "cell_type": "code",
      "source": [
        "# Execute the pruning function and store the results\n",
        "pruning_progresses, clean_data_accuracies, poisoned_data_asrs = apply_pruning_and_generate_stats()"
      ],
      "metadata": {
        "colab": {
          "base_uri": "https://localhost:8080/"
        },
        "id": "aV1SMr14cgR_",
        "outputId": "1c605153-4866-4192-fa66-4023f787dce6"
      },
      "execution_count": null,
      "outputs": [
        {
          "output_type": "stream",
          "name": "stdout",
          "text": [
            "361/361 [==============================] - 1s 2ms/step\n",
            "Original accuracy on clean data:  98.64899974019225\n",
            "361/361 [==============================] - 1s 2ms/step\n",
            "\n",
            "Attack Success Rate (ASR) on poisoned data:  100.0\n",
            "361/361 [==============================] - 1s 2ms/step\n",
            "\n",
            "Pruning progress percentage: 0.00\n",
            "Clean data accuracy of Modified Model:  98.64899974019225\n",
            "ASR of Refined Model on poisoned data:  100.0\n",
            "\n",
            "Pruning progress percentage: 0.02\n",
            "Clean data accuracy of Modified Model:  98.64899974019225\n",
            "ASR of Refined Model on poisoned data:  100.0\n",
            "\n",
            "Pruning progress percentage: 0.03\n",
            "Clean data accuracy of Modified Model:  98.64899974019225\n",
            "ASR of Refined Model on poisoned data:  100.0\n",
            "\n",
            "Pruning progress percentage: 0.05\n",
            "Clean data accuracy of Modified Model:  98.64899974019225\n",
            "ASR of Refined Model on poisoned data:  100.0\n",
            "\n",
            "Pruning progress percentage: 0.07\n",
            "Clean data accuracy of Modified Model:  98.64899974019225\n",
            "ASR of Refined Model on poisoned data:  100.0\n",
            "\n",
            "Pruning progress percentage: 0.08\n",
            "Clean data accuracy of Modified Model:  98.64899974019225\n",
            "ASR of Refined Model on poisoned data:  100.0\n",
            "\n",
            "Pruning progress percentage: 0.10\n",
            "Clean data accuracy of Modified Model:  98.64899974019225\n",
            "ASR of Refined Model on poisoned data:  100.0\n",
            "\n",
            "Pruning progress percentage: 0.12\n",
            "Clean data accuracy of Modified Model:  98.64899974019225\n",
            "ASR of Refined Model on poisoned data:  100.0\n",
            "\n",
            "Pruning progress percentage: 0.13\n",
            "Clean data accuracy of Modified Model:  98.64899974019225\n",
            "ASR of Refined Model on poisoned data:  100.0\n",
            "\n",
            "Pruning progress percentage: 0.15\n",
            "Clean data accuracy of Modified Model:  98.64899974019225\n",
            "ASR of Refined Model on poisoned data:  100.0\n",
            "\n",
            "Pruning progress percentage: 0.17\n",
            "Clean data accuracy of Modified Model:  98.64899974019225\n",
            "ASR of Refined Model on poisoned data:  100.0\n",
            "\n",
            "Pruning progress percentage: 0.18\n",
            "Clean data accuracy of Modified Model:  98.64899974019225\n",
            "ASR of Refined Model on poisoned data:  100.0\n",
            "\n",
            "Pruning progress percentage: 0.20\n",
            "Clean data accuracy of Modified Model:  98.64899974019225\n",
            "ASR of Refined Model on poisoned data:  100.0\n",
            "\n",
            "Pruning progress percentage: 0.22\n",
            "Clean data accuracy of Modified Model:  98.64899974019225\n",
            "ASR of Refined Model on poisoned data:  100.0\n",
            "\n",
            "Pruning progress percentage: 0.23\n",
            "Clean data accuracy of Modified Model:  98.64899974019225\n",
            "ASR of Refined Model on poisoned data:  100.0\n",
            "\n",
            "Pruning progress percentage: 0.25\n",
            "Clean data accuracy of Modified Model:  98.64899974019225\n",
            "ASR of Refined Model on poisoned data:  100.0\n",
            "\n",
            "Pruning progress percentage: 0.27\n",
            "Clean data accuracy of Modified Model:  98.64899974019225\n",
            "ASR of Refined Model on poisoned data:  100.0\n",
            "\n",
            "Pruning progress percentage: 0.28\n",
            "Clean data accuracy of Modified Model:  98.64899974019225\n",
            "ASR of Refined Model on poisoned data:  100.0\n",
            "\n",
            "Pruning progress percentage: 0.30\n",
            "Clean data accuracy of Modified Model:  98.64899974019225\n",
            "ASR of Refined Model on poisoned data:  100.0\n",
            "\n",
            "Pruning progress percentage: 0.32\n",
            "Clean data accuracy of Modified Model:  98.64899974019225\n",
            "ASR of Refined Model on poisoned data:  100.0\n",
            "\n",
            "Pruning progress percentage: 0.33\n",
            "Clean data accuracy of Modified Model:  98.64899974019225\n",
            "ASR of Refined Model on poisoned data:  100.0\n",
            "\n",
            "Pruning progress percentage: 0.35\n",
            "Clean data accuracy of Modified Model:  98.64899974019225\n",
            "ASR of Refined Model on poisoned data:  100.0\n",
            "\n",
            "Pruning progress percentage: 0.37\n",
            "Clean data accuracy of Modified Model:  98.64899974019225\n",
            "ASR of Refined Model on poisoned data:  100.0\n",
            "\n",
            "Pruning progress percentage: 0.38\n",
            "Clean data accuracy of Modified Model:  98.64899974019225\n",
            "ASR of Refined Model on poisoned data:  100.0\n",
            "\n",
            "Pruning progress percentage: 0.40\n",
            "Clean data accuracy of Modified Model:  98.64899974019225\n",
            "ASR of Refined Model on poisoned data:  100.0\n",
            "\n",
            "Pruning progress percentage: 0.42\n",
            "Clean data accuracy of Modified Model:  98.64899974019225\n",
            "ASR of Refined Model on poisoned data:  100.0\n",
            "\n",
            "Pruning progress percentage: 0.43\n",
            "Clean data accuracy of Modified Model:  98.64899974019225\n",
            "ASR of Refined Model on poisoned data:  100.0\n",
            "\n",
            "Pruning progress percentage: 0.45\n",
            "Clean data accuracy of Modified Model:  98.64899974019225\n",
            "ASR of Refined Model on poisoned data:  100.0\n",
            "\n",
            "Pruning progress percentage: 0.47\n",
            "Clean data accuracy of Modified Model:  98.64899974019225\n",
            "ASR of Refined Model on poisoned data:  100.0\n",
            "\n",
            "Pruning progress percentage: 0.48\n",
            "Clean data accuracy of Modified Model:  98.64899974019225\n",
            "ASR of Refined Model on poisoned data:  100.0\n",
            "\n",
            "Pruning progress percentage: 0.50\n",
            "Clean data accuracy of Modified Model:  98.64899974019225\n",
            "ASR of Refined Model on poisoned data:  100.0\n",
            "\n",
            "Pruning progress percentage: 0.52\n",
            "Clean data accuracy of Modified Model:  98.64899974019225\n",
            "ASR of Refined Model on poisoned data:  100.0\n",
            "\n",
            "Pruning progress percentage: 0.53\n",
            "Clean data accuracy of Modified Model:  98.64899974019225\n",
            "ASR of Refined Model on poisoned data:  100.0\n",
            "\n",
            "Pruning progress percentage: 0.55\n",
            "Clean data accuracy of Modified Model:  98.64033948211657\n",
            "ASR of Refined Model on poisoned data:  100.0\n",
            "\n",
            "Pruning progress percentage: 0.57\n",
            "Clean data accuracy of Modified Model:  98.64033948211657\n",
            "ASR of Refined Model on poisoned data:  100.0\n",
            "\n",
            "Pruning progress percentage: 0.58\n",
            "Clean data accuracy of Modified Model:  98.63167922404088\n",
            "ASR of Refined Model on poisoned data:  100.0\n",
            "\n",
            "Pruning progress percentage: 0.60\n",
            "Clean data accuracy of Modified Model:  98.63167922404088\n",
            "ASR of Refined Model on poisoned data:  100.0\n",
            "\n",
            "Pruning progress percentage: 0.62\n",
            "Clean data accuracy of Modified Model:  98.62301896596519\n",
            "ASR of Refined Model on poisoned data:  100.0\n",
            "\n",
            "Pruning progress percentage: 0.63\n",
            "Clean data accuracy of Modified Model:  98.57105741751104\n",
            "ASR of Refined Model on poisoned data:  100.0\n",
            "\n",
            "Pruning progress percentage: 0.65\n",
            "Clean data accuracy of Modified Model:  98.47579457867845\n",
            "ASR of Refined Model on poisoned data:  100.0\n",
            "\n",
            "Pruning progress percentage: 0.67\n",
            "Clean data accuracy of Modified Model:  98.44115354637569\n",
            "ASR of Refined Model on poisoned data:  100.0\n",
            "\n",
            "Pruning progress percentage: 0.68\n",
            "Clean data accuracy of Modified Model:  98.08608296527237\n",
            "ASR of Refined Model on poisoned data:  100.0\n",
            "\n",
            "Pruning progress percentage: 0.70\n",
            "Clean data accuracy of Modified Model:  97.54914696457955\n",
            "ASR of Refined Model on poisoned data:  100.0\n",
            "\n",
            "Pruning progress percentage: 0.72\n",
            "Clean data accuracy of Modified Model:  97.39326231921711\n",
            "ASR of Refined Model on poisoned data:  100.0\n",
            "\n",
            "Pruning progress percentage: 0.73\n",
            "Clean data accuracy of Modified Model:  95.61790941370053\n",
            "ASR of Refined Model on poisoned data:  100.0\n",
            "\n",
            "Pruning progress percentage: 0.75\n",
            "Clean data accuracy of Modified Model:  95.02901186455355\n",
            "ASR of Refined Model on poisoned data:  99.9913397419243\n",
            "\n",
            "Pruning progress percentage: 0.77\n",
            "Clean data accuracy of Modified Model:  94.49207586386075\n",
            "ASR of Refined Model on poisoned data:  99.9913397419243\n",
            "\n",
            "Pruning progress percentage: 0.78\n",
            "Clean data accuracy of Modified Model:  91.85935740885078\n",
            "ASR of Refined Model on poisoned data:  99.9913397419243\n",
            "\n",
            "Pruning progress percentage: 0.80\n",
            "Clean data accuracy of Modified Model:  91.27045985970382\n",
            "ASR of Refined Model on poisoned data:  99.9913397419243\n",
            "\n",
            "Pruning progress percentage: 0.82\n",
            "Clean data accuracy of Modified Model:  90.80280592361653\n",
            "ASR of Refined Model on poisoned data:  99.98267948384861\n",
            "\n",
            "Pruning progress percentage: 0.83\n",
            "Clean data accuracy of Modified Model:  88.94951069541872\n",
            "ASR of Refined Model on poisoned data:  80.73958603966398\n",
            "\n",
            "Pruning progress percentage: 0.85\n",
            "Clean data accuracy of Modified Model:  84.24699056031871\n",
            "ASR of Refined Model on poisoned data:  77.015675067117\n",
            "\n",
            "Pruning progress percentage: 0.87\n",
            "Clean data accuracy of Modified Model:  76.29687364683467\n",
            "ASR of Refined Model on poisoned data:  35.71490430414826\n",
            "\n",
            "Pruning progress percentage: 0.88\n",
            "Clean data accuracy of Modified Model:  54.75015155451632\n",
            "ASR of Refined Model on poisoned data:  6.954187234779596\n",
            "\n",
            "Pruning progress percentage: 0.90\n",
            "Clean data accuracy of Modified Model:  26.994024421927776\n",
            "ASR of Refined Model on poisoned data:  0.4243526457088421\n",
            "\n",
            "Pruning progress percentage: 0.92\n",
            "Clean data accuracy of Modified Model:  13.813111630726596\n",
            "ASR of Refined Model on poisoned data:  0.0\n",
            "\n",
            "Pruning progress percentage: 0.93\n",
            "Clean data accuracy of Modified Model:  7.066770589763576\n",
            "ASR of Refined Model on poisoned data:  0.0\n",
            "\n",
            "Pruning progress percentage: 0.95\n",
            "Clean data accuracy of Modified Model:  1.5501861955486274\n",
            "ASR of Refined Model on poisoned data:  0.0\n",
            "\n",
            "Pruning progress percentage: 0.97\n",
            "Clean data accuracy of Modified Model:  0.7188014202823244\n",
            "ASR of Refined Model on poisoned data:  0.0\n",
            "\n",
            "Pruning progress percentage: 0.98\n",
            "Clean data accuracy of Modified Model:  0.0779423226812159\n",
            "ASR of Refined Model on poisoned data:  0.0\n"
          ]
        }
      ]
    },
    {
      "cell_type": "code",
      "source": [
        "results_df_2 = pd.DataFrame({\n",
        "                    \"Pruning progress percentage\": pruning_progresses,\n",
        "                    \"Clean test accuracy of Modified Model\": clean_data_accuracies,\n",
        "                    \"Attack Success Rate (ASR)\": poisoned_data_asrs\n",
        "                })\n",
        "\n",
        "results_df_2.to_csv(\"results.csv\", index=False)\n",
        "\n",
        "results_df_2"
      ],
      "metadata": {
        "colab": {
          "base_uri": "https://localhost:8080/",
          "height": 1000
        },
        "id": "qYIAmeZecnKm",
        "outputId": "f2037ba1-4d1a-49a3-c905-c7cee529120a"
      },
      "execution_count": null,
      "outputs": [
        {
          "output_type": "execute_result",
          "data": {
            "text/plain": [
              "    Pruning progress percentage  Clean test accuracy of Modified Model  \\\n",
              "0                      0.000000                              98.649000   \n",
              "1                      0.016667                              98.649000   \n",
              "2                      0.033333                              98.649000   \n",
              "3                      0.050000                              98.649000   \n",
              "4                      0.066667                              98.649000   \n",
              "5                      0.083333                              98.649000   \n",
              "6                      0.100000                              98.649000   \n",
              "7                      0.116667                              98.649000   \n",
              "8                      0.133333                              98.649000   \n",
              "9                      0.150000                              98.649000   \n",
              "10                     0.166667                              98.649000   \n",
              "11                     0.183333                              98.649000   \n",
              "12                     0.200000                              98.649000   \n",
              "13                     0.216667                              98.649000   \n",
              "14                     0.233333                              98.649000   \n",
              "15                     0.250000                              98.649000   \n",
              "16                     0.266667                              98.649000   \n",
              "17                     0.283333                              98.649000   \n",
              "18                     0.300000                              98.649000   \n",
              "19                     0.316667                              98.649000   \n",
              "20                     0.333333                              98.649000   \n",
              "21                     0.350000                              98.649000   \n",
              "22                     0.366667                              98.649000   \n",
              "23                     0.383333                              98.649000   \n",
              "24                     0.400000                              98.649000   \n",
              "25                     0.416667                              98.649000   \n",
              "26                     0.433333                              98.649000   \n",
              "27                     0.450000                              98.649000   \n",
              "28                     0.466667                              98.649000   \n",
              "29                     0.483333                              98.649000   \n",
              "30                     0.500000                              98.649000   \n",
              "31                     0.516667                              98.649000   \n",
              "32                     0.533333                              98.649000   \n",
              "33                     0.550000                              98.640339   \n",
              "34                     0.566667                              98.640339   \n",
              "35                     0.583333                              98.631679   \n",
              "36                     0.600000                              98.631679   \n",
              "37                     0.616667                              98.623019   \n",
              "38                     0.633333                              98.571057   \n",
              "39                     0.650000                              98.475795   \n",
              "40                     0.666667                              98.441154   \n",
              "41                     0.683333                              98.086083   \n",
              "42                     0.700000                              97.549147   \n",
              "43                     0.716667                              97.393262   \n",
              "44                     0.733333                              95.617909   \n",
              "45                     0.750000                              95.029012   \n",
              "46                     0.766667                              94.492076   \n",
              "47                     0.783333                              91.859357   \n",
              "48                     0.800000                              91.270460   \n",
              "49                     0.816667                              90.802806   \n",
              "50                     0.833333                              88.949511   \n",
              "51                     0.850000                              84.246991   \n",
              "52                     0.866667                              76.296874   \n",
              "53                     0.883333                              54.750152   \n",
              "54                     0.900000                              26.994024   \n",
              "55                     0.916667                              13.813112   \n",
              "56                     0.933333                               7.066771   \n",
              "57                     0.950000                               1.550186   \n",
              "58                     0.966667                               0.718801   \n",
              "59                     0.983333                               0.077942   \n",
              "\n",
              "    Attack Success Rate (ASR)  \n",
              "0                  100.000000  \n",
              "1                  100.000000  \n",
              "2                  100.000000  \n",
              "3                  100.000000  \n",
              "4                  100.000000  \n",
              "5                  100.000000  \n",
              "6                  100.000000  \n",
              "7                  100.000000  \n",
              "8                  100.000000  \n",
              "9                  100.000000  \n",
              "10                 100.000000  \n",
              "11                 100.000000  \n",
              "12                 100.000000  \n",
              "13                 100.000000  \n",
              "14                 100.000000  \n",
              "15                 100.000000  \n",
              "16                 100.000000  \n",
              "17                 100.000000  \n",
              "18                 100.000000  \n",
              "19                 100.000000  \n",
              "20                 100.000000  \n",
              "21                 100.000000  \n",
              "22                 100.000000  \n",
              "23                 100.000000  \n",
              "24                 100.000000  \n",
              "25                 100.000000  \n",
              "26                 100.000000  \n",
              "27                 100.000000  \n",
              "28                 100.000000  \n",
              "29                 100.000000  \n",
              "30                 100.000000  \n",
              "31                 100.000000  \n",
              "32                 100.000000  \n",
              "33                 100.000000  \n",
              "34                 100.000000  \n",
              "35                 100.000000  \n",
              "36                 100.000000  \n",
              "37                 100.000000  \n",
              "38                 100.000000  \n",
              "39                 100.000000  \n",
              "40                 100.000000  \n",
              "41                 100.000000  \n",
              "42                 100.000000  \n",
              "43                 100.000000  \n",
              "44                 100.000000  \n",
              "45                  99.991340  \n",
              "46                  99.991340  \n",
              "47                  99.991340  \n",
              "48                  99.991340  \n",
              "49                  99.982679  \n",
              "50                  80.739586  \n",
              "51                  77.015675  \n",
              "52                  35.714904  \n",
              "53                   6.954187  \n",
              "54                   0.424353  \n",
              "55                   0.000000  \n",
              "56                   0.000000  \n",
              "57                   0.000000  \n",
              "58                   0.000000  \n",
              "59                   0.000000  "
            ],
            "text/html": [
              "\n",
              "  <div id=\"df-a8804793-e608-44be-87cd-7eac80ead4ec\" class=\"colab-df-container\">\n",
              "    <div>\n",
              "<style scoped>\n",
              "    .dataframe tbody tr th:only-of-type {\n",
              "        vertical-align: middle;\n",
              "    }\n",
              "\n",
              "    .dataframe tbody tr th {\n",
              "        vertical-align: top;\n",
              "    }\n",
              "\n",
              "    .dataframe thead th {\n",
              "        text-align: right;\n",
              "    }\n",
              "</style>\n",
              "<table border=\"1\" class=\"dataframe\">\n",
              "  <thead>\n",
              "    <tr style=\"text-align: right;\">\n",
              "      <th></th>\n",
              "      <th>Pruning progress percentage</th>\n",
              "      <th>Clean test accuracy of Modified Model</th>\n",
              "      <th>Attack Success Rate (ASR)</th>\n",
              "    </tr>\n",
              "  </thead>\n",
              "  <tbody>\n",
              "    <tr>\n",
              "      <th>0</th>\n",
              "      <td>0.000000</td>\n",
              "      <td>98.649000</td>\n",
              "      <td>100.000000</td>\n",
              "    </tr>\n",
              "    <tr>\n",
              "      <th>1</th>\n",
              "      <td>0.016667</td>\n",
              "      <td>98.649000</td>\n",
              "      <td>100.000000</td>\n",
              "    </tr>\n",
              "    <tr>\n",
              "      <th>2</th>\n",
              "      <td>0.033333</td>\n",
              "      <td>98.649000</td>\n",
              "      <td>100.000000</td>\n",
              "    </tr>\n",
              "    <tr>\n",
              "      <th>3</th>\n",
              "      <td>0.050000</td>\n",
              "      <td>98.649000</td>\n",
              "      <td>100.000000</td>\n",
              "    </tr>\n",
              "    <tr>\n",
              "      <th>4</th>\n",
              "      <td>0.066667</td>\n",
              "      <td>98.649000</td>\n",
              "      <td>100.000000</td>\n",
              "    </tr>\n",
              "    <tr>\n",
              "      <th>5</th>\n",
              "      <td>0.083333</td>\n",
              "      <td>98.649000</td>\n",
              "      <td>100.000000</td>\n",
              "    </tr>\n",
              "    <tr>\n",
              "      <th>6</th>\n",
              "      <td>0.100000</td>\n",
              "      <td>98.649000</td>\n",
              "      <td>100.000000</td>\n",
              "    </tr>\n",
              "    <tr>\n",
              "      <th>7</th>\n",
              "      <td>0.116667</td>\n",
              "      <td>98.649000</td>\n",
              "      <td>100.000000</td>\n",
              "    </tr>\n",
              "    <tr>\n",
              "      <th>8</th>\n",
              "      <td>0.133333</td>\n",
              "      <td>98.649000</td>\n",
              "      <td>100.000000</td>\n",
              "    </tr>\n",
              "    <tr>\n",
              "      <th>9</th>\n",
              "      <td>0.150000</td>\n",
              "      <td>98.649000</td>\n",
              "      <td>100.000000</td>\n",
              "    </tr>\n",
              "    <tr>\n",
              "      <th>10</th>\n",
              "      <td>0.166667</td>\n",
              "      <td>98.649000</td>\n",
              "      <td>100.000000</td>\n",
              "    </tr>\n",
              "    <tr>\n",
              "      <th>11</th>\n",
              "      <td>0.183333</td>\n",
              "      <td>98.649000</td>\n",
              "      <td>100.000000</td>\n",
              "    </tr>\n",
              "    <tr>\n",
              "      <th>12</th>\n",
              "      <td>0.200000</td>\n",
              "      <td>98.649000</td>\n",
              "      <td>100.000000</td>\n",
              "    </tr>\n",
              "    <tr>\n",
              "      <th>13</th>\n",
              "      <td>0.216667</td>\n",
              "      <td>98.649000</td>\n",
              "      <td>100.000000</td>\n",
              "    </tr>\n",
              "    <tr>\n",
              "      <th>14</th>\n",
              "      <td>0.233333</td>\n",
              "      <td>98.649000</td>\n",
              "      <td>100.000000</td>\n",
              "    </tr>\n",
              "    <tr>\n",
              "      <th>15</th>\n",
              "      <td>0.250000</td>\n",
              "      <td>98.649000</td>\n",
              "      <td>100.000000</td>\n",
              "    </tr>\n",
              "    <tr>\n",
              "      <th>16</th>\n",
              "      <td>0.266667</td>\n",
              "      <td>98.649000</td>\n",
              "      <td>100.000000</td>\n",
              "    </tr>\n",
              "    <tr>\n",
              "      <th>17</th>\n",
              "      <td>0.283333</td>\n",
              "      <td>98.649000</td>\n",
              "      <td>100.000000</td>\n",
              "    </tr>\n",
              "    <tr>\n",
              "      <th>18</th>\n",
              "      <td>0.300000</td>\n",
              "      <td>98.649000</td>\n",
              "      <td>100.000000</td>\n",
              "    </tr>\n",
              "    <tr>\n",
              "      <th>19</th>\n",
              "      <td>0.316667</td>\n",
              "      <td>98.649000</td>\n",
              "      <td>100.000000</td>\n",
              "    </tr>\n",
              "    <tr>\n",
              "      <th>20</th>\n",
              "      <td>0.333333</td>\n",
              "      <td>98.649000</td>\n",
              "      <td>100.000000</td>\n",
              "    </tr>\n",
              "    <tr>\n",
              "      <th>21</th>\n",
              "      <td>0.350000</td>\n",
              "      <td>98.649000</td>\n",
              "      <td>100.000000</td>\n",
              "    </tr>\n",
              "    <tr>\n",
              "      <th>22</th>\n",
              "      <td>0.366667</td>\n",
              "      <td>98.649000</td>\n",
              "      <td>100.000000</td>\n",
              "    </tr>\n",
              "    <tr>\n",
              "      <th>23</th>\n",
              "      <td>0.383333</td>\n",
              "      <td>98.649000</td>\n",
              "      <td>100.000000</td>\n",
              "    </tr>\n",
              "    <tr>\n",
              "      <th>24</th>\n",
              "      <td>0.400000</td>\n",
              "      <td>98.649000</td>\n",
              "      <td>100.000000</td>\n",
              "    </tr>\n",
              "    <tr>\n",
              "      <th>25</th>\n",
              "      <td>0.416667</td>\n",
              "      <td>98.649000</td>\n",
              "      <td>100.000000</td>\n",
              "    </tr>\n",
              "    <tr>\n",
              "      <th>26</th>\n",
              "      <td>0.433333</td>\n",
              "      <td>98.649000</td>\n",
              "      <td>100.000000</td>\n",
              "    </tr>\n",
              "    <tr>\n",
              "      <th>27</th>\n",
              "      <td>0.450000</td>\n",
              "      <td>98.649000</td>\n",
              "      <td>100.000000</td>\n",
              "    </tr>\n",
              "    <tr>\n",
              "      <th>28</th>\n",
              "      <td>0.466667</td>\n",
              "      <td>98.649000</td>\n",
              "      <td>100.000000</td>\n",
              "    </tr>\n",
              "    <tr>\n",
              "      <th>29</th>\n",
              "      <td>0.483333</td>\n",
              "      <td>98.649000</td>\n",
              "      <td>100.000000</td>\n",
              "    </tr>\n",
              "    <tr>\n",
              "      <th>30</th>\n",
              "      <td>0.500000</td>\n",
              "      <td>98.649000</td>\n",
              "      <td>100.000000</td>\n",
              "    </tr>\n",
              "    <tr>\n",
              "      <th>31</th>\n",
              "      <td>0.516667</td>\n",
              "      <td>98.649000</td>\n",
              "      <td>100.000000</td>\n",
              "    </tr>\n",
              "    <tr>\n",
              "      <th>32</th>\n",
              "      <td>0.533333</td>\n",
              "      <td>98.649000</td>\n",
              "      <td>100.000000</td>\n",
              "    </tr>\n",
              "    <tr>\n",
              "      <th>33</th>\n",
              "      <td>0.550000</td>\n",
              "      <td>98.640339</td>\n",
              "      <td>100.000000</td>\n",
              "    </tr>\n",
              "    <tr>\n",
              "      <th>34</th>\n",
              "      <td>0.566667</td>\n",
              "      <td>98.640339</td>\n",
              "      <td>100.000000</td>\n",
              "    </tr>\n",
              "    <tr>\n",
              "      <th>35</th>\n",
              "      <td>0.583333</td>\n",
              "      <td>98.631679</td>\n",
              "      <td>100.000000</td>\n",
              "    </tr>\n",
              "    <tr>\n",
              "      <th>36</th>\n",
              "      <td>0.600000</td>\n",
              "      <td>98.631679</td>\n",
              "      <td>100.000000</td>\n",
              "    </tr>\n",
              "    <tr>\n",
              "      <th>37</th>\n",
              "      <td>0.616667</td>\n",
              "      <td>98.623019</td>\n",
              "      <td>100.000000</td>\n",
              "    </tr>\n",
              "    <tr>\n",
              "      <th>38</th>\n",
              "      <td>0.633333</td>\n",
              "      <td>98.571057</td>\n",
              "      <td>100.000000</td>\n",
              "    </tr>\n",
              "    <tr>\n",
              "      <th>39</th>\n",
              "      <td>0.650000</td>\n",
              "      <td>98.475795</td>\n",
              "      <td>100.000000</td>\n",
              "    </tr>\n",
              "    <tr>\n",
              "      <th>40</th>\n",
              "      <td>0.666667</td>\n",
              "      <td>98.441154</td>\n",
              "      <td>100.000000</td>\n",
              "    </tr>\n",
              "    <tr>\n",
              "      <th>41</th>\n",
              "      <td>0.683333</td>\n",
              "      <td>98.086083</td>\n",
              "      <td>100.000000</td>\n",
              "    </tr>\n",
              "    <tr>\n",
              "      <th>42</th>\n",
              "      <td>0.700000</td>\n",
              "      <td>97.549147</td>\n",
              "      <td>100.000000</td>\n",
              "    </tr>\n",
              "    <tr>\n",
              "      <th>43</th>\n",
              "      <td>0.716667</td>\n",
              "      <td>97.393262</td>\n",
              "      <td>100.000000</td>\n",
              "    </tr>\n",
              "    <tr>\n",
              "      <th>44</th>\n",
              "      <td>0.733333</td>\n",
              "      <td>95.617909</td>\n",
              "      <td>100.000000</td>\n",
              "    </tr>\n",
              "    <tr>\n",
              "      <th>45</th>\n",
              "      <td>0.750000</td>\n",
              "      <td>95.029012</td>\n",
              "      <td>99.991340</td>\n",
              "    </tr>\n",
              "    <tr>\n",
              "      <th>46</th>\n",
              "      <td>0.766667</td>\n",
              "      <td>94.492076</td>\n",
              "      <td>99.991340</td>\n",
              "    </tr>\n",
              "    <tr>\n",
              "      <th>47</th>\n",
              "      <td>0.783333</td>\n",
              "      <td>91.859357</td>\n",
              "      <td>99.991340</td>\n",
              "    </tr>\n",
              "    <tr>\n",
              "      <th>48</th>\n",
              "      <td>0.800000</td>\n",
              "      <td>91.270460</td>\n",
              "      <td>99.991340</td>\n",
              "    </tr>\n",
              "    <tr>\n",
              "      <th>49</th>\n",
              "      <td>0.816667</td>\n",
              "      <td>90.802806</td>\n",
              "      <td>99.982679</td>\n",
              "    </tr>\n",
              "    <tr>\n",
              "      <th>50</th>\n",
              "      <td>0.833333</td>\n",
              "      <td>88.949511</td>\n",
              "      <td>80.739586</td>\n",
              "    </tr>\n",
              "    <tr>\n",
              "      <th>51</th>\n",
              "      <td>0.850000</td>\n",
              "      <td>84.246991</td>\n",
              "      <td>77.015675</td>\n",
              "    </tr>\n",
              "    <tr>\n",
              "      <th>52</th>\n",
              "      <td>0.866667</td>\n",
              "      <td>76.296874</td>\n",
              "      <td>35.714904</td>\n",
              "    </tr>\n",
              "    <tr>\n",
              "      <th>53</th>\n",
              "      <td>0.883333</td>\n",
              "      <td>54.750152</td>\n",
              "      <td>6.954187</td>\n",
              "    </tr>\n",
              "    <tr>\n",
              "      <th>54</th>\n",
              "      <td>0.900000</td>\n",
              "      <td>26.994024</td>\n",
              "      <td>0.424353</td>\n",
              "    </tr>\n",
              "    <tr>\n",
              "      <th>55</th>\n",
              "      <td>0.916667</td>\n",
              "      <td>13.813112</td>\n",
              "      <td>0.000000</td>\n",
              "    </tr>\n",
              "    <tr>\n",
              "      <th>56</th>\n",
              "      <td>0.933333</td>\n",
              "      <td>7.066771</td>\n",
              "      <td>0.000000</td>\n",
              "    </tr>\n",
              "    <tr>\n",
              "      <th>57</th>\n",
              "      <td>0.950000</td>\n",
              "      <td>1.550186</td>\n",
              "      <td>0.000000</td>\n",
              "    </tr>\n",
              "    <tr>\n",
              "      <th>58</th>\n",
              "      <td>0.966667</td>\n",
              "      <td>0.718801</td>\n",
              "      <td>0.000000</td>\n",
              "    </tr>\n",
              "    <tr>\n",
              "      <th>59</th>\n",
              "      <td>0.983333</td>\n",
              "      <td>0.077942</td>\n",
              "      <td>0.000000</td>\n",
              "    </tr>\n",
              "  </tbody>\n",
              "</table>\n",
              "</div>\n",
              "    <div class=\"colab-df-buttons\">\n",
              "\n",
              "  <div class=\"colab-df-container\">\n",
              "    <button class=\"colab-df-convert\" onclick=\"convertToInteractive('df-a8804793-e608-44be-87cd-7eac80ead4ec')\"\n",
              "            title=\"Convert this dataframe to an interactive table.\"\n",
              "            style=\"display:none;\">\n",
              "\n",
              "  <svg xmlns=\"http://www.w3.org/2000/svg\" height=\"24px\" viewBox=\"0 -960 960 960\">\n",
              "    <path d=\"M120-120v-720h720v720H120Zm60-500h600v-160H180v160Zm220 220h160v-160H400v160Zm0 220h160v-160H400v160ZM180-400h160v-160H180v160Zm440 0h160v-160H620v160ZM180-180h160v-160H180v160Zm440 0h160v-160H620v160Z\"/>\n",
              "  </svg>\n",
              "    </button>\n",
              "\n",
              "  <style>\n",
              "    .colab-df-container {\n",
              "      display:flex;\n",
              "      gap: 12px;\n",
              "    }\n",
              "\n",
              "    .colab-df-convert {\n",
              "      background-color: #E8F0FE;\n",
              "      border: none;\n",
              "      border-radius: 50%;\n",
              "      cursor: pointer;\n",
              "      display: none;\n",
              "      fill: #1967D2;\n",
              "      height: 32px;\n",
              "      padding: 0 0 0 0;\n",
              "      width: 32px;\n",
              "    }\n",
              "\n",
              "    .colab-df-convert:hover {\n",
              "      background-color: #E2EBFA;\n",
              "      box-shadow: 0px 1px 2px rgba(60, 64, 67, 0.3), 0px 1px 3px 1px rgba(60, 64, 67, 0.15);\n",
              "      fill: #174EA6;\n",
              "    }\n",
              "\n",
              "    .colab-df-buttons div {\n",
              "      margin-bottom: 4px;\n",
              "    }\n",
              "\n",
              "    [theme=dark] .colab-df-convert {\n",
              "      background-color: #3B4455;\n",
              "      fill: #D2E3FC;\n",
              "    }\n",
              "\n",
              "    [theme=dark] .colab-df-convert:hover {\n",
              "      background-color: #434B5C;\n",
              "      box-shadow: 0px 1px 3px 1px rgba(0, 0, 0, 0.15);\n",
              "      filter: drop-shadow(0px 1px 2px rgba(0, 0, 0, 0.3));\n",
              "      fill: #FFFFFF;\n",
              "    }\n",
              "  </style>\n",
              "\n",
              "    <script>\n",
              "      const buttonEl =\n",
              "        document.querySelector('#df-a8804793-e608-44be-87cd-7eac80ead4ec button.colab-df-convert');\n",
              "      buttonEl.style.display =\n",
              "        google.colab.kernel.accessAllowed ? 'block' : 'none';\n",
              "\n",
              "      async function convertToInteractive(key) {\n",
              "        const element = document.querySelector('#df-a8804793-e608-44be-87cd-7eac80ead4ec');\n",
              "        const dataTable =\n",
              "          await google.colab.kernel.invokeFunction('convertToInteractive',\n",
              "                                                    [key], {});\n",
              "        if (!dataTable) return;\n",
              "\n",
              "        const docLinkHtml = 'Like what you see? Visit the ' +\n",
              "          '<a target=\"_blank\" href=https://colab.research.google.com/notebooks/data_table.ipynb>data table notebook</a>'\n",
              "          + ' to learn more about interactive tables.';\n",
              "        element.innerHTML = '';\n",
              "        dataTable['output_type'] = 'display_data';\n",
              "        await google.colab.output.renderOutput(dataTable, element);\n",
              "        const docLink = document.createElement('div');\n",
              "        docLink.innerHTML = docLinkHtml;\n",
              "        element.appendChild(docLink);\n",
              "      }\n",
              "    </script>\n",
              "  </div>\n",
              "\n",
              "\n",
              "<div id=\"df-b556bce5-3af7-4d20-9a80-1a5e36057fdb\">\n",
              "  <button class=\"colab-df-quickchart\" onclick=\"quickchart('df-b556bce5-3af7-4d20-9a80-1a5e36057fdb')\"\n",
              "            title=\"Suggest charts\"\n",
              "            style=\"display:none;\">\n",
              "\n",
              "<svg xmlns=\"http://www.w3.org/2000/svg\" height=\"24px\"viewBox=\"0 0 24 24\"\n",
              "     width=\"24px\">\n",
              "    <g>\n",
              "        <path d=\"M19 3H5c-1.1 0-2 .9-2 2v14c0 1.1.9 2 2 2h14c1.1 0 2-.9 2-2V5c0-1.1-.9-2-2-2zM9 17H7v-7h2v7zm4 0h-2V7h2v10zm4 0h-2v-4h2v4z\"/>\n",
              "    </g>\n",
              "</svg>\n",
              "  </button>\n",
              "\n",
              "<style>\n",
              "  .colab-df-quickchart {\n",
              "      --bg-color: #E8F0FE;\n",
              "      --fill-color: #1967D2;\n",
              "      --hover-bg-color: #E2EBFA;\n",
              "      --hover-fill-color: #174EA6;\n",
              "      --disabled-fill-color: #AAA;\n",
              "      --disabled-bg-color: #DDD;\n",
              "  }\n",
              "\n",
              "  [theme=dark] .colab-df-quickchart {\n",
              "      --bg-color: #3B4455;\n",
              "      --fill-color: #D2E3FC;\n",
              "      --hover-bg-color: #434B5C;\n",
              "      --hover-fill-color: #FFFFFF;\n",
              "      --disabled-bg-color: #3B4455;\n",
              "      --disabled-fill-color: #666;\n",
              "  }\n",
              "\n",
              "  .colab-df-quickchart {\n",
              "    background-color: var(--bg-color);\n",
              "    border: none;\n",
              "    border-radius: 50%;\n",
              "    cursor: pointer;\n",
              "    display: none;\n",
              "    fill: var(--fill-color);\n",
              "    height: 32px;\n",
              "    padding: 0;\n",
              "    width: 32px;\n",
              "  }\n",
              "\n",
              "  .colab-df-quickchart:hover {\n",
              "    background-color: var(--hover-bg-color);\n",
              "    box-shadow: 0 1px 2px rgba(60, 64, 67, 0.3), 0 1px 3px 1px rgba(60, 64, 67, 0.15);\n",
              "    fill: var(--button-hover-fill-color);\n",
              "  }\n",
              "\n",
              "  .colab-df-quickchart-complete:disabled,\n",
              "  .colab-df-quickchart-complete:disabled:hover {\n",
              "    background-color: var(--disabled-bg-color);\n",
              "    fill: var(--disabled-fill-color);\n",
              "    box-shadow: none;\n",
              "  }\n",
              "\n",
              "  .colab-df-spinner {\n",
              "    border: 2px solid var(--fill-color);\n",
              "    border-color: transparent;\n",
              "    border-bottom-color: var(--fill-color);\n",
              "    animation:\n",
              "      spin 1s steps(1) infinite;\n",
              "  }\n",
              "\n",
              "  @keyframes spin {\n",
              "    0% {\n",
              "      border-color: transparent;\n",
              "      border-bottom-color: var(--fill-color);\n",
              "      border-left-color: var(--fill-color);\n",
              "    }\n",
              "    20% {\n",
              "      border-color: transparent;\n",
              "      border-left-color: var(--fill-color);\n",
              "      border-top-color: var(--fill-color);\n",
              "    }\n",
              "    30% {\n",
              "      border-color: transparent;\n",
              "      border-left-color: var(--fill-color);\n",
              "      border-top-color: var(--fill-color);\n",
              "      border-right-color: var(--fill-color);\n",
              "    }\n",
              "    40% {\n",
              "      border-color: transparent;\n",
              "      border-right-color: var(--fill-color);\n",
              "      border-top-color: var(--fill-color);\n",
              "    }\n",
              "    60% {\n",
              "      border-color: transparent;\n",
              "      border-right-color: var(--fill-color);\n",
              "    }\n",
              "    80% {\n",
              "      border-color: transparent;\n",
              "      border-right-color: var(--fill-color);\n",
              "      border-bottom-color: var(--fill-color);\n",
              "    }\n",
              "    90% {\n",
              "      border-color: transparent;\n",
              "      border-bottom-color: var(--fill-color);\n",
              "    }\n",
              "  }\n",
              "</style>\n",
              "\n",
              "  <script>\n",
              "    async function quickchart(key) {\n",
              "      const quickchartButtonEl =\n",
              "        document.querySelector('#' + key + ' button');\n",
              "      quickchartButtonEl.disabled = true;  // To prevent multiple clicks.\n",
              "      quickchartButtonEl.classList.add('colab-df-spinner');\n",
              "      try {\n",
              "        const charts = await google.colab.kernel.invokeFunction(\n",
              "            'suggestCharts', [key], {});\n",
              "      } catch (error) {\n",
              "        console.error('Error during call to suggestCharts:', error);\n",
              "      }\n",
              "      quickchartButtonEl.classList.remove('colab-df-spinner');\n",
              "      quickchartButtonEl.classList.add('colab-df-quickchart-complete');\n",
              "    }\n",
              "    (() => {\n",
              "      let quickchartButtonEl =\n",
              "        document.querySelector('#df-b556bce5-3af7-4d20-9a80-1a5e36057fdb button');\n",
              "      quickchartButtonEl.style.display =\n",
              "        google.colab.kernel.accessAllowed ? 'block' : 'none';\n",
              "    })();\n",
              "  </script>\n",
              "</div>\n",
              "    </div>\n",
              "  </div>\n"
            ]
          },
          "metadata": {},
          "execution_count": 26
        }
      ]
    },
    {
      "cell_type": "markdown",
      "source": [
        "# Evaluating the Goodnet G models (`ModifiedModel`)\n",
        "\n",
        "Below are the results for all the 3 goodnet models on the cleaned and poisoned test set."
      ],
      "metadata": {
        "id": "7fbsFzHcmx06"
      }
    },
    {
      "cell_type": "code",
      "source": [
        "!python3 CSAW-HackML-2020/lab3/eval.py CSAW-HackML-2020/lab3/data/cl/test.h5 CSAW-HackML-2020/lab3/data/bd/bd_test.h5 model_repaired_threshold_2.h5"
      ],
      "metadata": {
        "id": "gIQeDzv5uu_6",
        "colab": {
          "base_uri": "https://localhost:8080/"
        },
        "outputId": "ce260e2c-3be4-4df4-9171-634b0b27db1a"
      },
      "execution_count": 6,
      "outputs": [
        {
          "output_type": "stream",
          "name": "stdout",
          "text": [
            "2023-12-04 20:50:36.952484: E tensorflow/compiler/xla/stream_executor/cuda/cuda_dnn.cc:9342] Unable to register cuDNN factory: Attempting to register factory for plugin cuDNN when one has already been registered\n",
            "2023-12-04 20:50:36.952546: E tensorflow/compiler/xla/stream_executor/cuda/cuda_fft.cc:609] Unable to register cuFFT factory: Attempting to register factory for plugin cuFFT when one has already been registered\n",
            "2023-12-04 20:50:36.952591: E tensorflow/compiler/xla/stream_executor/cuda/cuda_blas.cc:1518] Unable to register cuBLAS factory: Attempting to register factory for plugin cuBLAS when one has already been registered\n",
            "2023-12-04 20:50:38.552445: W tensorflow/compiler/tf2tensorrt/utils/py_utils.cc:38] TF-TRT Warning: Could not find TensorRT\n",
            "401/401 [==============================] - 11s 28ms/step\n",
            "Clean Classification accuracy: 95.90023382696803\n",
            "401/401 [==============================] - 10s 25ms/step\n",
            "Attack Success Rate: 100.0\n"
          ]
        }
      ]
    },
    {
      "cell_type": "code",
      "source": [
        "!python3 CSAW-HackML-2020/lab3/eval.py CSAW-HackML-2020/lab3/data/cl/test.h5 CSAW-HackML-2020/lab3/data/bd/bd_test.h5 model_repaired_threshold_4.h5"
      ],
      "metadata": {
        "colab": {
          "base_uri": "https://localhost:8080/"
        },
        "id": "o7rK4vXAmNe_",
        "outputId": "d1793e9b-28c9-4d66-c079-c6e2b2af27d8"
      },
      "execution_count": 7,
      "outputs": [
        {
          "output_type": "stream",
          "name": "stdout",
          "text": [
            "2023-12-04 20:51:35.898735: E tensorflow/compiler/xla/stream_executor/cuda/cuda_dnn.cc:9342] Unable to register cuDNN factory: Attempting to register factory for plugin cuDNN when one has already been registered\n",
            "2023-12-04 20:51:35.898818: E tensorflow/compiler/xla/stream_executor/cuda/cuda_fft.cc:609] Unable to register cuFFT factory: Attempting to register factory for plugin cuFFT when one has already been registered\n",
            "2023-12-04 20:51:35.898866: E tensorflow/compiler/xla/stream_executor/cuda/cuda_blas.cc:1518] Unable to register cuBLAS factory: Attempting to register factory for plugin cuBLAS when one has already been registered\n",
            "2023-12-04 20:51:37.251276: W tensorflow/compiler/tf2tensorrt/utils/py_utils.cc:38] TF-TRT Warning: Could not find TensorRT\n",
            "401/401 [==============================] - 13s 31ms/step\n",
            "Clean Classification accuracy: 92.29150428682775\n",
            "401/401 [==============================] - 9s 23ms/step\n",
            "Attack Success Rate: 99.98441153546376\n"
          ]
        }
      ]
    },
    {
      "cell_type": "code",
      "source": [
        "!python3 CSAW-HackML-2020/lab3/eval.py CSAW-HackML-2020/lab3/data/cl/test.h5 CSAW-HackML-2020/lab3/data/bd/bd_test.h5 model_repaired_threshold_10.h5"
      ],
      "metadata": {
        "colab": {
          "base_uri": "https://localhost:8080/"
        },
        "id": "Uz90HkZimb10",
        "outputId": "936e27cf-3db1-48e2-d601-935a7ffd6665"
      },
      "execution_count": 8,
      "outputs": [
        {
          "output_type": "stream",
          "name": "stdout",
          "text": [
            "2023-12-04 20:52:14.858570: E tensorflow/compiler/xla/stream_executor/cuda/cuda_dnn.cc:9342] Unable to register cuDNN factory: Attempting to register factory for plugin cuDNN when one has already been registered\n",
            "2023-12-04 20:52:14.859074: E tensorflow/compiler/xla/stream_executor/cuda/cuda_fft.cc:609] Unable to register cuFFT factory: Attempting to register factory for plugin cuFFT when one has already been registered\n",
            "2023-12-04 20:52:14.859148: E tensorflow/compiler/xla/stream_executor/cuda/cuda_blas.cc:1518] Unable to register cuBLAS factory: Attempting to register factory for plugin cuBLAS when one has already been registered\n",
            "2023-12-04 20:52:16.190355: W tensorflow/compiler/tf2tensorrt/utils/py_utils.cc:38] TF-TRT Warning: Could not find TensorRT\n",
            "401/401 [==============================] - 11s 28ms/step\n",
            "Clean Classification accuracy: 84.54403741231489\n",
            "401/401 [==============================] - 10s 25ms/step\n",
            "Attack Success Rate: 77.20966484801247\n"
          ]
        }
      ]
    },
    {
      "cell_type": "markdown",
      "source": [
        "| Model Name                     | Clean Classification Accuracy (%) | Attack Success Rate (%) |\n",
        "|--------------------------------|-----------------------------------|-------------------------|\n",
        "| model_repaired_threshold_2.h5  | 95.90                             | 100.00                  |\n",
        "| model_repaired_threshold_4.h5  | 92.29                             | 99.98                   |\n",
        "| model_repaired_threshold_10.h5 | 84.54                             | 77.21                   |\n"
      ],
      "metadata": {
        "id": "sMu72TSQn5qT"
      }
    },
    {
      "cell_type": "code",
      "source": [],
      "metadata": {
        "id": "WffklmI1mlYW"
      },
      "execution_count": null,
      "outputs": []
    }
  ]
}